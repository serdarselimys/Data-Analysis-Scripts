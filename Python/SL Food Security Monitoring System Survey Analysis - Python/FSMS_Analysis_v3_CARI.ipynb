{
 "cells": [
  {
   "cell_type": "code",
   "execution_count": 1,
   "id": "525fb82a",
   "metadata": {},
   "outputs": [],
   "source": [
    "import pandas as pd\n",
    "import numpy as np\n",
    "import os"
   ]
  },
  {
   "cell_type": "code",
   "execution_count": 2,
   "id": "41211808",
   "metadata": {
    "scrolled": true
   },
   "outputs": [],
   "source": [
    "df = pd.read_excel('FSMSFeb23.xlsx')"
   ]
  },
  {
   "cell_type": "code",
   "execution_count": 3,
   "id": "9cb0ad87",
   "metadata": {},
   "outputs": [],
   "source": [
    "df.to_pickle(\"AnalysisResults.pkl\")"
   ]
  },
  {
   "cell_type": "code",
   "execution_count": 4,
   "id": "b85d7ffc",
   "metadata": {},
   "outputs": [],
   "source": [
    "df = pd.read_pickle(\"AnalysisResults.pkl\")"
   ]
  },
  {
   "cell_type": "markdown",
   "id": "52af48e3",
   "metadata": {},
   "source": [
    "# Geolocation"
   ]
  },
  {
   "cell_type": "markdown",
   "id": "7d160670",
   "metadata": {},
   "source": [
    "## Districts"
   ]
  },
  {
   "cell_type": "code",
   "execution_count": 3,
   "id": "f23f3e85",
   "metadata": {},
   "outputs": [],
   "source": [
    "df['District'] = np.where(df['ADMIN2Name'] == 'CC101', 'Kailahun', df['ADMIN2Name'])\n",
    "df['District'] = np.where(df['ADMIN2Name'] == 'CC102', 'Kenema', df['District'])\n",
    "df['District'] = np.where(df['ADMIN2Name'] == 'CC103', 'Kono', df['District'])\n",
    "df['District'] = np.where(df['ADMIN2Name'] == 'CC104', 'Bombali', df['District'])\n",
    "df['District'] = np.where(df['ADMIN2Name'] == 'CC105', 'Falaba', df['District'])\n",
    "df['District'] = np.where(df['ADMIN2Name'] == 'CC106', 'Koinadugu', df['District'])\n",
    "df['District'] = np.where(df['ADMIN2Name'] == 'CC107', 'Tonkolili', df['District'])\n",
    "df['District'] = np.where(df['ADMIN2Name'] == 'CC108', 'Kambia', df['District'])\n",
    "df['District'] = np.where(df['ADMIN2Name'] == 'CC109', 'Karene', df['District'])\n",
    "df['District'] = np.where(df['ADMIN2Name'] == 'CC110', 'Port Loko', df['District'])\n",
    "df['District'] = np.where(df['ADMIN2Name'] == 'CC111', 'Bo', df['District'])\n",
    "df['District'] = np.where(df['ADMIN2Name'] == 'CC112', 'Bonthe', df['District'])\n",
    "df['District'] = np.where(df['ADMIN2Name'] == 'CC113', 'Moyamba', df['District'])\n",
    "df['District'] = np.where(df['ADMIN2Name'] == 'CC114', 'Pujehun', df['District'])\n",
    "df['District'] = np.where(df['ADMIN2Name'] == 'CC115', 'Western Area Rural', df['District'])\n",
    "df['District'] = np.where(df['ADMIN2Name'] == 'CC116', 'Western Area Urban', df['District'])"
   ]
  },
  {
   "cell_type": "markdown",
   "id": "22786a44",
   "metadata": {},
   "source": [
    "# Household Demography"
   ]
  },
  {
   "cell_type": "markdown",
   "id": "2ff1f315",
   "metadata": {},
   "source": [
    "## HHH Gender"
   ]
  },
  {
   "cell_type": "code",
   "execution_count": 4,
   "id": "d7a99001",
   "metadata": {},
   "outputs": [],
   "source": [
    "df['HHHResgen'] = df['RESPSex'][df['RESPRelationHHH']==100]\n",
    "df.HHHResgen.fillna(df.HHHSex, inplace=True)\n",
    "df['HHHGender'] = df['HHHResgen'].map({0: 'Female', 1: 'Male'})"
   ]
  },
  {
   "cell_type": "markdown",
   "id": "53d5913e",
   "metadata": {},
   "source": [
    "## HHH Age"
   ]
  },
  {
   "cell_type": "code",
   "execution_count": 5,
   "id": "5d264c49",
   "metadata": {},
   "outputs": [],
   "source": [
    "df['HHHResage'] = df['RESPAge'][df['RESPRelationHHH']==100]\n",
    "df.HHHResage.fillna(df.HHHAge, inplace=True)\n",
    "df['HHHAge'] = df['HHHResage']"
   ]
  },
  {
   "cell_type": "markdown",
   "id": "7365686d",
   "metadata": {},
   "source": [
    "## HHH Age Categories"
   ]
  },
  {
   "cell_type": "code",
   "execution_count": 6,
   "id": "0023ed64",
   "metadata": {},
   "outputs": [],
   "source": [
    "HHHAgebins = [16, 36, 65, np.inf]\n",
    "HHHAgenames = ['16 to 35', '36 to 64', '65 and Older']\n",
    "\n",
    "df['HHHAgeC'] = pd.cut(df['HHHAge'], HHHAgebins, labels=HHHAgenames)"
   ]
  },
  {
   "cell_type": "markdown",
   "id": "64f91618",
   "metadata": {
    "slideshow": {
     "slide_type": "-"
    }
   },
   "source": [
    "## HH Size"
   ]
  },
  {
   "cell_type": "code",
   "execution_count": 7,
   "id": "4524c8ff",
   "metadata": {},
   "outputs": [],
   "source": [
    "df[\"HHSize\"] = df['HHSize01M'] + df['HHSize01F'] + df['HHSize24M'] + df['HHSize24F'] + df['HHSize511M'] + df['HHSize511F'] + df['HHSize1217M'] + df['HHSize1217F'] + df['HHSize1864M'] + df['HHSize1864F'] + df['HHSize65AboveM'] + df['HHSize65AboveF']"
   ]
  },
  {
   "cell_type": "markdown",
   "id": "f2f0aa64",
   "metadata": {},
   "source": [
    "## HH Size Categories"
   ]
  },
  {
   "cell_type": "code",
   "execution_count": 8,
   "id": "45a09758",
   "metadata": {},
   "outputs": [],
   "source": [
    "HHSizebins = [0, 4, 8, 12, np.inf]\n",
    "HHSizenames = ['1 to 4', '5 to 8', '9 to 12', '13 and More']\n",
    "\n",
    "df['HHSizeC'] = pd.cut(df['HHSize'], HHSizebins, labels=HHSizenames)"
   ]
  },
  {
   "cell_type": "code",
   "execution_count": 9,
   "id": "7da8a2ce",
   "metadata": {},
   "outputs": [
    {
     "data": {
      "text/plain": [
       "7.2637341153470185"
      ]
     },
     "execution_count": 9,
     "metadata": {},
     "output_type": "execute_result"
    }
   ],
   "source": [
    "df[\"HHSize\"].mean()"
   ]
  },
  {
   "cell_type": "code",
   "execution_count": 10,
   "id": "6f5b3644",
   "metadata": {},
   "outputs": [],
   "source": [
    "df[\"NChild\"] = df['HHSize01M'] + df['HHSize01F'] + df['HHSize24M'] + df['HHSize24F'] + df['HHSize511M'] + df['HHSize511F'] + df['HHSize1217M'] + df['HHSize1217F']"
   ]
  },
  {
   "cell_type": "code",
   "execution_count": 11,
   "id": "ceef8b52",
   "metadata": {},
   "outputs": [],
   "source": [
    "df[\"NAdult\"] = df['HHSize1864M'] + df['HHSize1864F']"
   ]
  },
  {
   "cell_type": "code",
   "execution_count": 12,
   "id": "430055ac",
   "metadata": {},
   "outputs": [],
   "source": [
    "df[\"NElderly\"] = df['HHSize65AboveM'] + df['HHSize65AboveF']"
   ]
  },
  {
   "cell_type": "code",
   "execution_count": 13,
   "id": "43687b69",
   "metadata": {},
   "outputs": [],
   "source": [
    "df[\"NDependants\"] = df[\"NChild\"] + df[\"NElderly\"]"
   ]
  },
  {
   "cell_type": "markdown",
   "id": "ea5f125e",
   "metadata": {},
   "source": [
    "## Dependency Ratio"
   ]
  },
  {
   "cell_type": "code",
   "execution_count": 14,
   "id": "b75282f9",
   "metadata": {},
   "outputs": [],
   "source": [
    "df[\"DepRatio\"] = df[\"NDependants\"] / df[\"NAdult\"]"
   ]
  },
  {
   "cell_type": "markdown",
   "id": "1af1c6fd",
   "metadata": {},
   "source": [
    "## Dependency Ratio Categories"
   ]
  },
  {
   "cell_type": "code",
   "execution_count": 15,
   "id": "d0191dd2",
   "metadata": {},
   "outputs": [],
   "source": [
    "DepRbins = [0, 1.5, 3, np.inf]\n",
    "DepRnames = ['Low', 'High', 'Very High']\n",
    "\n",
    "df['DepRatioC'] = pd.cut(df['DepRatio'], DepRbins, labels=DepRnames)"
   ]
  },
  {
   "cell_type": "markdown",
   "id": "365cb59e",
   "metadata": {},
   "source": [
    "# Income Source"
   ]
  },
  {
   "cell_type": "code",
   "execution_count": 16,
   "id": "b5eff921",
   "metadata": {},
   "outputs": [],
   "source": [
    "df[\"HHMainIncome\"] = np.where(df['HHIncFirst_SRi'] == 14, 'Agriculture', df['HHIncFirst_SRi'])\n",
    "df['HHMainIncome'] = np.where(df['HHIncFirst_SRi'] == 15, 'Agriculture', df['HHMainIncome'])\n",
    "df['HHMainIncome'] = np.where(df['HHIncFirst_SRi'] == 1, 'Waged labor', df['HHMainIncome'])\n",
    "df['HHMainIncome'] = np.where(df['HHIncFirst_SRi'] == 2, 'Waged labor', df['HHMainIncome'])\n",
    "df['HHMainIncome'] = np.where(df['HHIncFirst_SRi'] == 3, 'Waged labor', df['HHMainIncome'])\n",
    "df['HHMainIncome'] = np.where(df['HHIncFirst_SRi'] == 4, 'Waged labor', df['HHMainIncome'])\n",
    "df['HHMainIncome'] = np.where(df['HHIncFirst_SRi'] == 11, 'Trade', df['HHMainIncome'])\n",
    "df['HHMainIncome'] = np.where(df['HHIncFirst_SRi'] == 12, 'Trade', df['HHMainIncome'])\n",
    "df['HHMainIncome'] = np.where(df['HHIncFirst_SRi'] == 13, 'Trade', df['HHMainIncome'])\n",
    "df['HHMainIncome'] = np.where(df['HHIncFirst_SRi'] == 5, 'Other', df['HHMainIncome'])\n",
    "df['HHMainIncome'] = np.where(df['HHIncFirst_SRi'] == 6, 'Other', df['HHMainIncome'])\n",
    "df['HHMainIncome'] = np.where(df['HHIncFirst_SRi'] == 7, 'Other', df['HHMainIncome'])\n",
    "df['HHMainIncome'] = np.where(df['HHIncFirst_SRi'] == 8, 'Other', df['HHMainIncome'])\n",
    "df['HHMainIncome'] = np.where(df['HHIncFirst_SRi'] == 9, 'Other', df['HHMainIncome'])\n",
    "df['HHMainIncome'] = np.where(df['HHIncFirst_SRi'] == 10, 'Other', df['HHMainIncome'])\n",
    "df['HHMainIncome'] = np.where(df['HHIncFirst_SRi'] == 999, 'Other', df['HHMainIncome'])"
   ]
  },
  {
   "cell_type": "markdown",
   "id": "6e73a833",
   "metadata": {},
   "source": [
    "# Food Consumption Score"
   ]
  },
  {
   "cell_type": "markdown",
   "id": "68de50ff",
   "metadata": {},
   "source": [
    "### FCS 3 Categories"
   ]
  },
  {
   "cell_type": "code",
   "execution_count": 17,
   "id": "c819f326",
   "metadata": {},
   "outputs": [],
   "source": [
    "df[\"FCS\"] = (df['FCSStap']*2) + (df['FCSPulse']*3) + (df['FCSDairy']*4) + (df['FCSPr']*4) + (df['FCSVeg']*1) + (df['FCSFruit']*1) + (df['FCSFat']*.5) + (df['FCSSugar']*.5)"
   ]
  },
  {
   "cell_type": "code",
   "execution_count": 18,
   "id": "58829229",
   "metadata": {},
   "outputs": [],
   "source": [
    "FCSbins = [0, 21, 35, np.inf]\n",
    "FCSnames = ['Poor', 'Borderline', 'Acceptable']\n",
    "\n",
    "df['FCSC'] = pd.cut(df['FCS'], FCSbins, labels=FCSnames)"
   ]
  },
  {
   "cell_type": "markdown",
   "id": "c416e10a",
   "metadata": {},
   "source": [
    "### Reduced Consumption Strategy Index"
   ]
  },
  {
   "cell_type": "code",
   "execution_count": 19,
   "id": "6717282d",
   "metadata": {},
   "outputs": [],
   "source": [
    "df[\"RCSi\"] = (df['rCSILessQlty']*1) + (df['rCSIBorrow']*2) + (df['rCSIMealSize']*1) + (df['rCSIMealAdult']*3) + (df['rCSIMealNb']*1)"
   ]
  },
  {
   "cell_type": "markdown",
   "id": "d26871b0",
   "metadata": {},
   "source": [
    "### FCS 4 Categories"
   ]
  },
  {
   "cell_type": "code",
   "execution_count": 20,
   "id": "045803b2",
   "metadata": {},
   "outputs": [],
   "source": [
    "df['FCS_4pt'] = pd.cut(df['FCS'], bins=[0, 21, 35, df['FCS'].max()], labels=[4, 3, 1])\n",
    "df['FCS_4pt'] = np.where(df['RCSi'] >= 4, np.where(df['FCS_4pt'] == 1, 2, df['FCS_4pt']), df['FCS_4pt'])"
   ]
  },
  {
   "cell_type": "markdown",
   "id": "20a4ac32",
   "metadata": {},
   "source": [
    "## FCS - Nutrition"
   ]
  },
  {
   "cell_type": "code",
   "execution_count": 21,
   "id": "91ca0e88",
   "metadata": {},
   "outputs": [],
   "source": [
    "df[\"FGVitA\"] = (df['FCSDairy']) + (df['FCSPrMeatO']) + (df['FCSPrEgg']) + (df['FCSVegOrg']) + (df['FCSVegGre']) + (df['FCSFruitOrg'])\n",
    "df[\"FGProtein\"] = (df['FCSPulse']) + (df['FCSDairy']) + (df['FCSPrMeatF']) + (df['FCSPrMeatO']) + (df['FCSPrFish']) + (df['FCSPrEgg'])\n",
    "df[\"FGIron\"] = (df['FCSPrMeatF']) + (df['FCSPrMeatO']) + (df['FCSPrFish'])"
   ]
  },
  {
   "cell_type": "code",
   "execution_count": 22,
   "id": "e760d6d6",
   "metadata": {},
   "outputs": [],
   "source": [
    "FCSNbins = [-np.inf, 0, 6, 42]\n",
    "FCSNnames = ['Never consumed', 'Consumed sometimes', 'Consumed at least 7 times']\n",
    "\n",
    "df['FGVitA'] = pd.cut(df['FGVitA'], FCSNbins, labels=FCSNnames)"
   ]
  },
  {
   "cell_type": "code",
   "execution_count": 23,
   "id": "62357ab1",
   "metadata": {},
   "outputs": [],
   "source": [
    "FCSNbins = [-np.inf, 0, 6, 42]\n",
    "FCSNnames = ['Never consumed', 'Consumed sometimes', 'Consumed at least 7 times']\n",
    "\n",
    "df['FGProtein'] = pd.cut(df['FGProtein'], FCSNbins, labels=FCSNnames)"
   ]
  },
  {
   "cell_type": "code",
   "execution_count": 24,
   "id": "8efc7fc5",
   "metadata": {},
   "outputs": [],
   "source": [
    "FCSNbins = [-np.inf, 0, 6, 42]\n",
    "FCSNnames = ['Never consumed', 'Consumed sometimes', 'Consumed at least 7 times']\n",
    "\n",
    "df['FGIron'] = pd.cut(df['FGIron'], FCSNbins, labels=FCSNnames)"
   ]
  },
  {
   "cell_type": "markdown",
   "id": "960e40b1",
   "metadata": {},
   "source": [
    "# Dietary Diversity Score"
   ]
  },
  {
   "cell_type": "code",
   "execution_count": 25,
   "id": "f10d9ede",
   "metadata": {},
   "outputs": [],
   "source": [
    "df[\"HDDSVegSum\"] = df['HDDSVegOrg'] + df['HDDSVegGre'] + df['HDDSVegOth']"
   ]
  },
  {
   "cell_type": "code",
   "execution_count": 26,
   "id": "e0cfcd47",
   "metadata": {},
   "outputs": [],
   "source": [
    "df[\"HDDSPrMeatSum\"] = df['HDDSPrMeatF'] + df['HDDSPrMeatO']"
   ]
  },
  {
   "cell_type": "code",
   "execution_count": 27,
   "id": "47c1f342",
   "metadata": {},
   "outputs": [],
   "source": [
    "df[\"HDDSFruitSum\"] = df['HDDSFruitOrg'] + df['HDDSFruitOth']"
   ]
  },
  {
   "cell_type": "code",
   "execution_count": 28,
   "id": "43b2c7a5",
   "metadata": {},
   "outputs": [],
   "source": [
    "df[\"HDDSVeg\"] = np.where(df['HDDSVegSum'] > 0, 1, df['HDDSVegSum'])\n",
    "df[\"HDDSPrMeat\"] = np.where(df['HDDSPrMeatSum'] > 0, 1, df['HDDSPrMeatSum'])\n",
    "df[\"HDDSFruit\"] = np.where(df['HDDSFruitSum'] > 0, 1, df['HDDSFruitSum'])\n"
   ]
  },
  {
   "cell_type": "code",
   "execution_count": 29,
   "id": "ffaf4736",
   "metadata": {},
   "outputs": [],
   "source": [
    "df['HDDs'] = df['HDDSStapCer'] + df['HDDSStapRoot'] + df['HDDSVeg'] + df['HDDSFruit'] + df['HDDSPrMeat'] + df['HDDSPrEgg'] + df['HDDSPrFish'] + df['HDDSPulse'] + df['HDDSDairy'] + df['HDDSFat']+ df['HDDSSugar'] + df['HDDSCond']"
   ]
  },
  {
   "cell_type": "markdown",
   "id": "6df723fe",
   "metadata": {},
   "source": [
    "## HDDs Categories"
   ]
  },
  {
   "cell_type": "code",
   "execution_count": 30,
   "id": "98cf5068",
   "metadata": {},
   "outputs": [],
   "source": [
    "bins = [0, 2, 4, 6, np.inf]\n",
    "names = ['2 and Less', '3 to 4', '5', '6 and more']\n",
    "\n",
    "df['HDDsC'] = pd.cut(df['HDDs'], bins, labels=names)"
   ]
  },
  {
   "cell_type": "markdown",
   "id": "c68776b8",
   "metadata": {},
   "source": [
    "# LCSi"
   ]
  },
  {
   "cell_type": "markdown",
   "id": "66b8e80f",
   "metadata": {},
   "source": [
    "## LCSi Stress"
   ]
  },
  {
   "cell_type": "code",
   "execution_count": 31,
   "id": "aa47bb41",
   "metadata": {},
   "outputs": [],
   "source": [
    "df['Lcs_stress_DomAsset'] = np.where(df['Lcs_stress_DomAsset'] == 30, 1, df['Lcs_stress_DomAsset'])\n",
    "df['Lcs_stress_DomAsset'] = np.where(df['Lcs_stress_DomAsset'] == 20, 1, df['Lcs_stress_DomAsset'])\n",
    "df['Lcs_stress_DomAsset'] = np.where(df['Lcs_stress_DomAsset'] == 10, 0, df['Lcs_stress_DomAsset'])\n",
    "df['Lcs_stress_DomAsset'] = np.where(df['Lcs_stress_DomAsset'] == 9999, 0, df['Lcs_stress_DomAsset'])\n",
    "df['Lcs_stress_Saving'] = np.where(df['Lcs_stress_Saving'] == 30, 1, df['Lcs_stress_Saving'])\n",
    "df['Lcs_stress_Saving'] = np.where(df['Lcs_stress_Saving'] == 20, 1, df['Lcs_stress_Saving'])\n",
    "df['Lcs_stress_Saving'] = np.where(df['Lcs_stress_Saving'] == 10, 0, df['Lcs_stress_Saving'])\n",
    "df['Lcs_stress_Saving'] = np.where(df['Lcs_stress_Saving'] == 9999, 0, df['Lcs_stress_Saving'])\n",
    "df['Lcs_stress_CrdtFood'] = np.where(df['Lcs_stress_CrdtFood'] == 30, 1, df['Lcs_stress_CrdtFood'])\n",
    "df['Lcs_stress_CrdtFood'] = np.where(df['Lcs_stress_CrdtFood'] == 20, 1, df['Lcs_stress_CrdtFood'])\n",
    "df['Lcs_stress_CrdtFood'] = np.where(df['Lcs_stress_CrdtFood'] == 10, 0, df['Lcs_stress_CrdtFood'])\n",
    "df['Lcs_stress_CrdtFood'] = np.where(df['Lcs_stress_CrdtFood'] == 9999, 0, df['Lcs_stress_CrdtFood'])\n",
    "df['Lcs_stress_Edu'] = np.where(df['Lcs_stress_Edu'] == 30, 1, df['Lcs_stress_Edu'])\n",
    "df['Lcs_stress_Edu'] = np.where(df['Lcs_stress_Edu'] == 20, 1, df['Lcs_stress_Edu'])\n",
    "df['Lcs_stress_Edu'] = np.where(df['Lcs_stress_Edu'] == 10, 0, df['Lcs_stress_Edu'])\n",
    "df['Lcs_stress_Edu'] = np.where(df['Lcs_stress_Edu'] == 9999, 0, df['Lcs_stress_Edu'])\n",
    "\n",
    "df['stress_coping'] = df['Lcs_stress_DomAsset'] + df['Lcs_stress_Saving'] + df['Lcs_stress_CrdtFood'] + df['Lcs_stress_Edu']\n",
    "df['stress_coping'] = np.where(df['stress_coping'] >= 1, 1, df['stress_coping'])\n",
    "df['stress_coping'] = np.where(df['stress_coping'] == 0, 0, df['stress_coping'])\n"
   ]
  },
  {
   "cell_type": "markdown",
   "id": "d36a563f",
   "metadata": {},
   "source": [
    "## LCSi Crisis"
   ]
  },
  {
   "cell_type": "code",
   "execution_count": 32,
   "id": "47a36762",
   "metadata": {},
   "outputs": [],
   "source": [
    "df['Lcs_crisis_ProdAssets'] = np.where(df['Lcs_crisis_ProdAssets'] == 20, 1, df['Lcs_crisis_ProdAssets'])\n",
    "df['Lcs_crisis_ProdAssets'] = np.where(df['Lcs_crisis_ProdAssets'] == 30, 1, df['Lcs_crisis_ProdAssets'])\n",
    "df['Lcs_crisis_ProdAssets'] = np.where(df['Lcs_crisis_ProdAssets'] == 10, 0, df['Lcs_crisis_ProdAssets'])\n",
    "df['Lcs_crisis_ProdAssets'] = np.where(df['Lcs_crisis_ProdAssets'] == 9999, 0, df['Lcs_crisis_ProdAssets'])\n",
    "df['Lcs_crisis_Health'] = np.where(df['Lcs_crisis_Health'] == 20, 1, df['Lcs_crisis_Health'])\n",
    "df['Lcs_crisis_Health'] = np.where(df['Lcs_crisis_Health'] == 30, 1, df['Lcs_crisis_Health'])\n",
    "df['Lcs_crisis_Health'] = np.where(df['Lcs_crisis_Health'] == 10, 0, df['Lcs_crisis_Health'])\n",
    "df['Lcs_crisis_Health'] = np.where(df['Lcs_crisis_Health'] == 9999, 0, df['Lcs_crisis_Health'])\n",
    "df['Lcs_crisis_OutSchool'] = np.where(df['Lcs_crisis_OutSchool'] == 20, 1, df['Lcs_crisis_OutSchool'])\n",
    "df['Lcs_crisis_OutSchool'] = np.where(df['Lcs_crisis_OutSchool'] == 30, 1, df['Lcs_crisis_OutSchool'])\n",
    "df['Lcs_crisis_OutSchool'] = np.where(df['Lcs_crisis_OutSchool'] == 10, 0, df['Lcs_crisis_OutSchool'])\n",
    "df['Lcs_crisis_OutSchool'] = np.where(df['Lcs_crisis_OutSchool'] == 9999, 0, df['Lcs_crisis_OutSchool'])\n",
    "\n",
    "df['crisis_coping'] = df['Lcs_crisis_ProdAssets'] + df['Lcs_crisis_Health'] + df['Lcs_crisis_OutSchool']\n",
    "df['crisis_coping'] = np.where(df['crisis_coping'] >= 1, 1, df['crisis_coping'])\n",
    "df['crisis_coping'] = np.where(df['crisis_coping'] == 0, 0, df['crisis_coping'])"
   ]
  },
  {
   "cell_type": "markdown",
   "id": "2e31b694",
   "metadata": {},
   "source": [
    "## LCSi Emergency"
   ]
  },
  {
   "cell_type": "code",
   "execution_count": 33,
   "id": "3f02af7e",
   "metadata": {},
   "outputs": [],
   "source": [
    "df['Lcs_em_ChildWork'] = np.where(df['Lcs_em_ChildWork'] == 20, 1, df['Lcs_em_ChildWork'])\n",
    "df['Lcs_em_ChildWork'] = np.where(df['Lcs_em_ChildWork'] == 30, 1, df['Lcs_em_ChildWork'])\n",
    "df['Lcs_em_ChildWork'] = np.where(df['Lcs_em_ChildWork'] == 10, 0, df['Lcs_em_ChildWork'])\n",
    "df['Lcs_em_ChildWork'] = np.where(df['Lcs_em_ChildWork'] == 9999, 0, df['Lcs_em_ChildWork'])\n",
    "\n",
    "df['Lcs_em_Begged'] = np.where(df['Lcs_em_Begged'] == 20, 1, df['Lcs_em_Begged'])\n",
    "df['Lcs_em_Begged'] = np.where(df['Lcs_em_Begged'] == 30, 1, df['Lcs_em_Begged'])\n",
    "df['Lcs_em_Begged'] = np.where(df['Lcs_em_Begged'] == 10, 0, df['Lcs_em_Begged'])\n",
    "df['Lcs_em_Begged'] = np.where(df['Lcs_em_Begged'] == 9999, 0, df['Lcs_em_Begged'])\n",
    "\n",
    "df['Lcs_em_IllegalAct'] = np.where(df['Lcs_em_IllegalAct'] == 20, 1, df['Lcs_em_IllegalAct'])\n",
    "df['Lcs_em_IllegalAct'] = np.where(df['Lcs_em_IllegalAct'] == 30, 1, df['Lcs_em_IllegalAct'])\n",
    "df['Lcs_em_IllegalAct'] = np.where(df['Lcs_em_IllegalAct'] == 10, 0, df['Lcs_em_IllegalAct'])\n",
    "df['Lcs_em_IllegalAct'] = np.where(df['Lcs_em_IllegalAct'] == 9999, 0, df['Lcs_em_IllegalAct'])\n",
    "\n",
    "df['emergency_coping'] = df['Lcs_em_ChildWork'] + df['Lcs_em_Begged'] + df['Lcs_em_IllegalAct']\n",
    "df['emergency_coping'] = np.where(df['emergency_coping'] >= 1, 1, df['emergency_coping'])\n",
    "df['emergency_coping'] = np.where(df['emergency_coping'] == 0, 0, df['emergency_coping'])"
   ]
  },
  {
   "cell_type": "markdown",
   "id": "eea25e59",
   "metadata": {},
   "source": [
    "## LCSi MAX Coping Behaviour"
   ]
  },
  {
   "cell_type": "code",
   "execution_count": 34,
   "id": "621b632b",
   "metadata": {},
   "outputs": [],
   "source": [
    "df['stress_coping'] = np.where(df['stress_coping'] == 1, 2, df['stress_coping'])\n",
    "df['crisis_coping'] = np.where(df['crisis_coping'] == 1, 3, df['crisis_coping'])\n",
    "df['emergency_coping'] = np.where(df['emergency_coping'] == 1, 4, df['emergency_coping'])"
   ]
  },
  {
   "cell_type": "code",
   "execution_count": 35,
   "id": "faa4c0e1",
   "metadata": {},
   "outputs": [],
   "source": [
    "df[\"MCB\"] = df[[\"stress_coping\", \"crisis_coping\", \"emergency_coping\"]].max(axis=1)"
   ]
  },
  {
   "cell_type": "markdown",
   "id": "e0f5144f",
   "metadata": {},
   "source": [
    "# Food Expenditure Share"
   ]
  },
  {
   "cell_type": "markdown",
   "id": "517e06e0",
   "metadata": {},
   "source": [
    "## Food Expenditure"
   ]
  },
  {
   "cell_type": "code",
   "execution_count": 14,
   "id": "1abce85e",
   "metadata": {},
   "outputs": [],
   "source": [
    "df[\"HHExpFood_MN_1M\"] = (df['HHExpFCer_MN_1M'] + df['HHExpFTub_MN_1M'] + df['HHExpFPuls_MN_1M'] + \n",
    "              df['HHExpFVeg_MN_1M'] + df['HHExpFFrt_MN_1M'] + df['HHExpFAnimMeat_MN_1M'] + \n",
    "              df['HHExpFAnimFish_MN_1M'] + df['HHExpFFats_MN_1M'] + df['HHExpFDairy_MN_1M'] + \n",
    "              df['HHExpFAnimEgg_MN_1M'] + df['HHExpFSgr_MN_1M'] + df['HHExpFCond_MN_1M'] + \n",
    "              df['HHExpFBeverage_MN_1M'] + df['HHExpFOut_MN_1M'])"
   ]
  },
  {
   "cell_type": "code",
   "execution_count": 6,
   "id": "c0fd94e4",
   "metadata": {},
   "outputs": [],
   "source": [
    "df[\"HHExp_Food_CRD_1M\"] = (df['HHExpFCer_CRD_1M'] + df['HHExpFTub_CRD_1M'] + df['HHExpFPuls_CRD_1M'] + \n",
    "              df['HHExpFVeg_CRD_1M'] + df['HHExpFFrt_CRD_1M'] + df['HHExpFAnimMeat_CRD_1M'] + \n",
    "              df['HHExpFAnimFish_CRD_1M'] + df['HHExpFFats_CRD_1M'] + df['HHExpFDairy_CRD_1M'] + \n",
    "              df['HHExpFAnimEgg_CRD_1M'] + df['HHExpFSgr_CRD_1M'] + df['HHExpFCond_CRD_1M'] + \n",
    "              df['HHExpFBeverage_CRD_1M'] + df['HHExpFOut_CRD_1M'])"
   ]
  },
  {
   "cell_type": "code",
   "execution_count": 7,
   "id": "5603a5d5",
   "metadata": {},
   "outputs": [],
   "source": [
    "df[\"HHExp_Food_GiftAid_1M\"] = (df['HHExpFCer_GiftAid_1M'] + df['HHExpFTub_GiftAid_1M'] + df['HHExpFPuls_GiftAid_1M'] + \n",
    "              df['HHExpFVeg_GiftAid_1M'] + df['HHExpFFrt_GiftAid_1M'] + df['HHExpFAnimMeat_GiftAid_1M'] + \n",
    "              df['HHExpFAnimFish_GiftAid_1M'] + df['HHExpFFats_GiftAid_1M'] + df['HHExpFDairy_GiftAid_1M'] + \n",
    "              df['HHExpFAnimEgg_GiftAid_1M'] + df['HHExpFSgr_GiftAid_1M'] + df['HHExpFCond_GiftAid_1M'] + \n",
    "              df['HHExpFBeverage_GiftAid_1M'] + df['HHExpFOut_GiftAid_1M'])"
   ]
  },
  {
   "cell_type": "code",
   "execution_count": 8,
   "id": "49604106",
   "metadata": {},
   "outputs": [],
   "source": [
    "df[\"HHExp_Food_Own_1M\"] = (df['HHExpFCer_Own_1M'] + df['HHExpFTub_Own_1M'] + df['HHExpFPuls_Own_1M'] + \n",
    "                           df['HHExpFVeg_Own_1M'] + df['HHExpFFrt_Own_1M'] + df['HHExpFAnimMeat_Own_1M'] +  \n",
    "                           df['HHExpFAnimFish_Own_1M'] + df['HHExpFFats_Own_1M'] + df['HHExpFDairy_Own_1M'] +  \n",
    "                           df['HHExpFAnimEgg_Own_1M'] + df['HHExpFSgr_Own_1M'] + df['HHExpFCond_Own_1M'] + \n",
    "                           df['HHExpFBeverage_Own_1M'] + df['HHExpFOut_Own_1M'])"
   ]
  },
  {
   "cell_type": "code",
   "execution_count": 9,
   "id": "7a58dfbc",
   "metadata": {},
   "outputs": [],
   "source": [
    "df[\"HHExpFood_1M\"] = (df['HHExpFood_MN_1M'] + df['HHExp_Food_CRD_1M'] + df['HHExp_Food_Own_1M'] + df['HHExp_Food_GiftAid_1M'])"
   ]
  },
  {
   "cell_type": "markdown",
   "id": "d86bf927",
   "metadata": {},
   "source": [
    "## Food Expenditure W/Out Cond, Foodout & Bevs."
   ]
  },
  {
   "cell_type": "code",
   "execution_count": 41,
   "id": "3dd1d7d7",
   "metadata": {},
   "outputs": [],
   "source": [
    "df[\"HHExpFood_MN_1M2\"] = (df['HHExpFCer_MN_1M'] + df['HHExpFTub_MN_1M'] + df['HHExpFPuls_MN_1M'] + \n",
    "              df['HHExpFVeg_MN_1M'] + df['HHExpFFrt_MN_1M'] + df['HHExpFAnimMeat_MN_1M'] + \n",
    "              df['HHExpFAnimFish_MN_1M'] + df['HHExpFFats_MN_1M'] + df['HHExpFDairy_MN_1M'] + \n",
    "              df['HHExpFAnimEgg_MN_1M'] + df['HHExpFSgr_MN_1M'])"
   ]
  },
  {
   "cell_type": "code",
   "execution_count": 42,
   "id": "1b312b55",
   "metadata": {},
   "outputs": [],
   "source": [
    "df[\"HHExp_Food_CRD_1M2\"] = (df['HHExpFCer_CRD_1M'] + df['HHExpFTub_CRD_1M'] + df['HHExpFPuls_CRD_1M'] + \n",
    "              df['HHExpFVeg_CRD_1M'] + df['HHExpFFrt_CRD_1M'] + df['HHExpFAnimMeat_CRD_1M'] + \n",
    "              df['HHExpFAnimFish_CRD_1M'] + df['HHExpFFats_CRD_1M'] + df['HHExpFDairy_CRD_1M'] + \n",
    "              df['HHExpFAnimEgg_CRD_1M'] + df['HHExpFSgr_CRD_1M'])"
   ]
  },
  {
   "cell_type": "code",
   "execution_count": 43,
   "id": "c6722776",
   "metadata": {},
   "outputs": [],
   "source": [
    "df[\"HHExp_Food_GiftAid_1M2\"] = (df['HHExpFCer_GiftAid_1M'] + df['HHExpFTub_GiftAid_1M'] + df['HHExpFPuls_GiftAid_1M'] + \n",
    "              df['HHExpFVeg_GiftAid_1M'] + df['HHExpFFrt_GiftAid_1M'] + df['HHExpFAnimMeat_GiftAid_1M'] + \n",
    "              df['HHExpFAnimFish_GiftAid_1M'] + df['HHExpFFats_GiftAid_1M'] + df['HHExpFDairy_GiftAid_1M'] + \n",
    "              df['HHExpFAnimEgg_GiftAid_1M'] + df['HHExpFSgr_GiftAid_1M'])"
   ]
  },
  {
   "cell_type": "code",
   "execution_count": 44,
   "id": "110f967e",
   "metadata": {},
   "outputs": [],
   "source": [
    "df[\"HHExp_Food_Own_1M2\"] = (df['HHExpFCer_Own_1M'] + df['HHExpFTub_Own_1M'] + df['HHExpFPuls_Own_1M'] + \n",
    "                           df['HHExpFVeg_Own_1M'] + df['HHExpFFrt_Own_1M'] + df['HHExpFAnimMeat_Own_1M'] +  \n",
    "                           df['HHExpFAnimFish_Own_1M'] + df['HHExpFFats_Own_1M'] + df['HHExpFDairy_Own_1M'] +  \n",
    "                           df['HHExpFAnimEgg_Own_1M'] + df['HHExpFSgr_Own_1M'])"
   ]
  },
  {
   "cell_type": "code",
   "execution_count": 45,
   "id": "f2a803c7",
   "metadata": {},
   "outputs": [],
   "source": [
    "df[\"HHExpFood_1M2\"] = (df['HHExpFood_MN_1M2'] + df['HHExp_Food_CRD_1M2'] + df['HHExp_Food_Own_1M2'] + df['HHExp_Food_GiftAid_1M2'])"
   ]
  },
  {
   "cell_type": "markdown",
   "id": "5fd30ceb",
   "metadata": {},
   "source": [
    "## Food Reference Basket"
   ]
  },
  {
   "cell_type": "code",
   "execution_count": 46,
   "id": "020c1937",
   "metadata": {},
   "outputs": [],
   "source": [
    "df[\"FishEXP\"] = (df['HHExpFAnimFish_MN_1M'] + df['HHExpFAnimFish_CRD_1M'] + df['HHExpFAnimFish_GiftAid_1M'] + df['HHExpFAnimFish_Own_1M'])\n",
    "df[\"MeatEXP\"] = (df['HHExpFAnimMeat_MN_1M'] + df['HHExpFAnimMeat_CRD_1M'] + df['HHExpFAnimMeat_GiftAid_1M'] + df['HHExpFAnimMeat_Own_1M'])\n",
    "df[\"EggEXP\"] = (df['HHExpFAnimEgg_MN_1M'] + df['HHExpFAnimEgg_CRD_1M'] + df['HHExpFAnimEgg_GiftAid_1M'] + df['HHExpFAnimEgg_Own_1M'])\n",
    "df[\"AnimProEXP\"] = (df['FishEXP'] + df['MeatEXP'] + df['EggEXP'])"
   ]
  },
  {
   "cell_type": "code",
   "execution_count": 47,
   "id": "8ee38789",
   "metadata": {},
   "outputs": [],
   "source": [
    "df[\"CerealsEXP\"] = (df['HHExpFCer_MN_1M'] + df['HHExpFCer_CRD_1M'] + df['HHExpFCer_GiftAid_1M'] + df['HHExpFCer_Own_1M'])\n",
    "df[\"TubersEXP\"] = (df['HHExpFTub_MN_1M'] + df['HHExpFTub_CRD_1M'] + df['HHExpFTub_GiftAid_1M'] + df['HHExpFTub_Own_1M'])\n",
    "df[\"PulsesEXP\"] = (df['HHExpFPuls_MN_1M'] + df['HHExpFPuls_CRD_1M'] + df['HHExpFPuls_GiftAid_1M'] + df['HHExpFPuls_Own_1M'])\n",
    "df[\"VegEXP\"] = (df['HHExpFVeg_MN_1M'] + df['HHExpFVeg_CRD_1M'] + df['HHExpFVeg_GiftAid_1M'] + df['HHExpFVeg_Own_1M'])\n",
    "df[\"OilsFatsEXP\"] = (df['HHExpFFats_MN_1M'] + df['HHExpFFats_CRD_1M'] + df['HHExpFFats_GiftAid_1M'] + df['HHExpFFats_Own_1M'])\n",
    "df[\"DairyEXP\"] = (df['HHExpFDairy_MN_1M'] + df['HHExpFDairy_CRD_1M'] + df['HHExpFDairy_GiftAid_1M'] + df['HHExpFDairy_Own_1M'])\n",
    "df[\"SugarEXP\"] = (df['HHExpFSgr_MN_1M'] + df['HHExpFSgr_CRD_1M'] + df['HHExpFSgr_GiftAid_1M'] + df['HHExpFSgr_Own_1M'])"
   ]
  },
  {
   "cell_type": "markdown",
   "id": "6d899643",
   "metadata": {},
   "source": [
    "## NFI Expenditure"
   ]
  },
  {
   "cell_type": "markdown",
   "id": "566b0759",
   "metadata": {},
   "source": [
    "### NFI Cash Expenditure"
   ]
  },
  {
   "cell_type": "code",
   "execution_count": 48,
   "id": "0fc3682d",
   "metadata": {},
   "outputs": [],
   "source": [
    "df[\"HHExpNFTotal_MN_Int_6M\"] = (df['HHExpNFRent_MN_6M'] + df['HHExpNFMedServ_MN_6M'] + df['HHExpNFMedGood_MN_6M'] + \n",
    "              df['HHExpNFCloth_MN_6M'] + df['HHExpNFEduFee_MN_6M'] + df['HHExpNFEduGood_MN_6M'] + \n",
    "              df['HHExpNFSoft_MN_6M'] + df['HHExpNFSav_Est_6M'] + df['HHExpNFInsurance_MN_6M'] + \n",
    "              df['HHExpNFDebt_Est_6M'])"
   ]
  },
  {
   "cell_type": "code",
   "execution_count": 49,
   "id": "d3cbd3bb",
   "metadata": {},
   "outputs": [],
   "source": [
    "df[\"HHExpNFTotal_MN_Int_30D\"] = ((df['HHExpNFRent_MN_6M'] + df['HHExpNFMedServ_MN_6M'] + df['HHExpNFMedGood_MN_6M'] + \n",
    "              df['HHExpNFCloth_MN_6M'] + df['HHExpNFEduFee_MN_6M'] + df['HHExpNFEduGood_MN_6M'] + \n",
    "              df['HHExpNFSoft_MN_6M'] + df['HHExpNFSav_Est_6M'] + df['HHExpNFInsurance_MN_6M'] + \n",
    "              df['HHExpNFDebt_Est_6M'])/6)"
   ]
  },
  {
   "cell_type": "code",
   "execution_count": 50,
   "id": "0c2c0762",
   "metadata": {},
   "outputs": [],
   "source": [
    "df[\"HHExpNFTotal_MN_CONS_6M\"] = (df['HHExpNFAlcTobac_MN_6M'] + df['HHExpNFHyg_MN_6M'] + df['HHExpNFTransp_MN_6M'] + \n",
    "              df['HHExpNFWat_MN_6M'] + df['HHExpNFDwelServ_MN_6M'] + df['HHExpNFElec_MN_6M'] + \n",
    "              df['HHExpNFEnerg_MN_6M'] + df['HHExpNFPhone_MN_6M'])"
   ]
  },
  {
   "cell_type": "code",
   "execution_count": 51,
   "id": "badf821f",
   "metadata": {},
   "outputs": [],
   "source": [
    "df[\"HHExpNFTotal_MN_CONS_30D\"] = ((df['HHExpNFAlcTobac_MN_6M'] + df['HHExpNFHyg_MN_6M'] + df['HHExpNFTransp_MN_6M'] + \n",
    "              df['HHExpNFWat_MN_6M'] + df['HHExpNFDwelServ_MN_6M'] + df['HHExpNFElec_MN_6M'] + \n",
    "              df['HHExpNFEnerg_MN_6M'] + df['HHExpNFPhone_MN_6M'])/6)"
   ]
  },
  {
   "cell_type": "code",
   "execution_count": 52,
   "id": "52df706f",
   "metadata": {},
   "outputs": [],
   "source": [
    "df[\"HHExpNFTotal_MN_1M\"] = df['HHExpNFTotal_MN_Int_30D'] + df['HHExpNFTotal_MN_CONS_30D']"
   ]
  },
  {
   "cell_type": "markdown",
   "id": "21f1e5b3",
   "metadata": {},
   "source": [
    "### NFI Credit Expenditure"
   ]
  },
  {
   "cell_type": "code",
   "execution_count": 53,
   "id": "e2078cf1",
   "metadata": {},
   "outputs": [],
   "source": [
    "df[\"HHExpNFTotal_CRD_Int_6M\"] = (df['HHExpNFRent_CRD_6M'] + df['HHExpNFMedServ_CRD_6M'] + df['HHExpNFMedGood_CRD_6M'] + \n",
    "              df['HHExpNFCloth_CRD_6M'] + df['HHExpNFEduFee_CRD_6M'] + df['HHExpNFEduGood_CRD_6M'] + \n",
    "              df['HHExpNFSoft_CRD_6M'] + df['HHExpNFInsurance_CRD_6M'])"
   ]
  },
  {
   "cell_type": "code",
   "execution_count": 54,
   "id": "c18b5e4b",
   "metadata": {},
   "outputs": [],
   "source": [
    "df[\"HHExpNFTotal_CRD_Int_30D\"] = ((df['HHExpNFRent_CRD_6M'] + df['HHExpNFMedServ_CRD_6M'] + df['HHExpNFMedGood_CRD_6M'] + \n",
    "              df['HHExpNFCloth_CRD_6M'] + df['HHExpNFEduFee_CRD_6M'] + df['HHExpNFEduGood_CRD_6M'] + \n",
    "              df['HHExpNFSoft_CRD_6M'] + df['HHExpNFInsurance_CRD_6M'])/6)"
   ]
  },
  {
   "cell_type": "code",
   "execution_count": 55,
   "id": "972ee369",
   "metadata": {},
   "outputs": [],
   "source": [
    "df[\"HHExpNFTotal_CRD_CONS_6M\"] = (df['HHExpNFAlcTobac_CRD_6M'] + df['HHExpNFHyg_CRD_6M'] + df['HHExpNFTransp_CRD_6M'] + \n",
    "              df['HHExpNFWat_CRD_6M'] + df['HHExpNFDwelServ_CRD_6M'] + df['HHExpNFElec_CRD_6M'] + \n",
    "              df['HHExpNFEnerg_CRD_6M'] + df['HHExpNFPhone_CRD_6M'])"
   ]
  },
  {
   "cell_type": "code",
   "execution_count": 56,
   "id": "b2b70653",
   "metadata": {},
   "outputs": [],
   "source": [
    "df[\"HHExpNFTotal_CRD_CONS_30D\"] = ((df['HHExpNFAlcTobac_CRD_6M'] + df['HHExpNFHyg_CRD_6M'] + df['HHExpNFTransp_CRD_6M'] + \n",
    "              df['HHExpNFWat_CRD_6M'] + df['HHExpNFDwelServ_CRD_6M'] + df['HHExpNFElec_CRD_6M'] + \n",
    "              df['HHExpNFEnerg_CRD_6M'] + df['HHExpNFPhone_CRD_6M'])/6)"
   ]
  },
  {
   "cell_type": "code",
   "execution_count": 57,
   "id": "9f6ab51c",
   "metadata": {},
   "outputs": [],
   "source": [
    "df[\"HHExpNFTotal_CRD_1M\"] = df['HHExpNFTotal_CRD_Int_30D'] + df['HHExpNFTotal_CRD_CONS_30D']"
   ]
  },
  {
   "cell_type": "markdown",
   "id": "f9a0455f",
   "metadata": {},
   "source": [
    "### NFI Gift Aid Expenditure"
   ]
  },
  {
   "cell_type": "code",
   "execution_count": 58,
   "id": "792e7203",
   "metadata": {},
   "outputs": [],
   "source": [
    "df[\"HHExpNFTotal_GiftAid_Int_6M\"] = (df['HHExpNFRent_GiftAid_6M'] + df['HHExpNFMedServ_GiftAid_6M'] + df['HHExpNFMedGood_GiftAid_6M'] + \n",
    "              df['HHExpNFCloth_GiftAid_6M'] + df['HHExpNFEduFee_GiftAid_6M'] + df['HHExpNFEduGood_GiftAid_6M'] + \n",
    "              df['HHExpNFSoft_GiftAid_6M'] + df['HHExpNFInsurance_GiftAid_6M'])"
   ]
  },
  {
   "cell_type": "code",
   "execution_count": 59,
   "id": "8070bde3",
   "metadata": {},
   "outputs": [],
   "source": [
    "df[\"HHExpNFTotal_GiftAid_Int_30D\"] = ((df['HHExpNFRent_GiftAid_6M'] + df['HHExpNFMedServ_GiftAid_6M'] + df['HHExpNFMedGood_GiftAid_6M'] + \n",
    "              df['HHExpNFCloth_GiftAid_6M'] + df['HHExpNFEduFee_GiftAid_6M'] + df['HHExpNFEduGood_GiftAid_6M'] + \n",
    "              df['HHExpNFSoft_GiftAid_6M'] + df['HHExpNFInsurance_GiftAid_6M'])/6)"
   ]
  },
  {
   "cell_type": "code",
   "execution_count": 60,
   "id": "5c4137c2",
   "metadata": {},
   "outputs": [],
   "source": [
    "df[\"HHExpNFTotal_GiftAid_CONS_6M\"] = (df['HHExpNFAlcTobac_GiftAid_6M'] + df['HHExpNFHyg_GiftAid_6M'] + df['HHExpNFTransp_GiftAid_6M'] + \n",
    "              df['HHExpNFWat_GiftAid_6M'] + df['HHExpNFDwelServ_GiftAid_6M'] + df['HHExpNFElec_GiftAid_6M'] + \n",
    "              df['HHExpNFEnerg_GiftAid_6M'] + df['HHExpNFPhone_GiftAid_6M'])"
   ]
  },
  {
   "cell_type": "code",
   "execution_count": 61,
   "id": "3e82db8d",
   "metadata": {},
   "outputs": [],
   "source": [
    "df[\"HHExpNFTotal_GiftAid_CONS_30D\"] = ((df['HHExpNFAlcTobac_GiftAid_6M'] + df['HHExpNFHyg_GiftAid_6M'] + df['HHExpNFTransp_GiftAid_6M'] + \n",
    "              df['HHExpNFWat_GiftAid_6M'] + df['HHExpNFDwelServ_GiftAid_6M'] + df['HHExpNFElec_GiftAid_6M'] + \n",
    "              df['HHExpNFEnerg_GiftAid_6M'] + df['HHExpNFPhone_GiftAid_6M'])/6)"
   ]
  },
  {
   "cell_type": "code",
   "execution_count": 62,
   "id": "de1d5871",
   "metadata": {},
   "outputs": [],
   "source": [
    "df[\"HHExpNFTotal_GiftAid_1M\"] = df['HHExpNFTotal_GiftAid_Int_30D'] + df['HHExpNFTotal_GiftAid_CONS_30D']"
   ]
  },
  {
   "cell_type": "markdown",
   "id": "1c395f44",
   "metadata": {},
   "source": [
    "## Total Monthly Household NFI Expenditure"
   ]
  },
  {
   "cell_type": "code",
   "execution_count": 63,
   "id": "41eff7a2",
   "metadata": {},
   "outputs": [],
   "source": [
    "df[\"HHExpNFTotal_1M\"] = df['HHExpNFTotal_MN_1M'] + df['HHExpNFTotal_CRD_1M'] + df['HHExpNFTotal_GiftAid_1M']"
   ]
  },
  {
   "cell_type": "markdown",
   "id": "31c27ee3",
   "metadata": {},
   "source": [
    "## FOOD Expenditure Share"
   ]
  },
  {
   "cell_type": "code",
   "execution_count": 64,
   "id": "b0050ccf",
   "metadata": {},
   "outputs": [],
   "source": [
    "df[\"FES\"] = df['HHExpFood_1M'] / (df['HHExpFood_1M'] + df['HHExpNFTotal_1M'])"
   ]
  },
  {
   "cell_type": "code",
   "execution_count": 65,
   "id": "be1283f4",
   "metadata": {},
   "outputs": [],
   "source": [
    "df[\"FES2\"] = df['HHExpFood_1M2'] / (df['HHExpFood_1M2'] + df['HHExpNFTotal_1M'])"
   ]
  },
  {
   "cell_type": "code",
   "execution_count": 66,
   "id": "db9cd08b",
   "metadata": {},
   "outputs": [],
   "source": [
    "df[\"HHExpTotal\"] = (df['HHExpFood_1M'] + df['HHExpNFTotal_1M'])"
   ]
  },
  {
   "cell_type": "markdown",
   "id": "e5e060f8",
   "metadata": {},
   "source": [
    "## FES Categories"
   ]
  },
  {
   "cell_type": "code",
   "execution_count": 67,
   "id": "937c2b9d",
   "metadata": {},
   "outputs": [],
   "source": [
    "bins = [0, 0.5, 0.65, 0.75, np.inf]\n",
    "names = ['<50%', '50% to 65%', '65% to 75%', '>75%']\n",
    "\n",
    "df['FESc'] = pd.cut(df['FES'], bins, labels=names)"
   ]
  },
  {
   "cell_type": "markdown",
   "id": "ff1c3143",
   "metadata": {},
   "source": [
    "### FES CARI"
   ]
  },
  {
   "cell_type": "code",
   "execution_count": 68,
   "id": "7ff15819",
   "metadata": {},
   "outputs": [],
   "source": [
    "bins = [-np.inf, 0.5, 0.65, 0.75, np.inf]\n",
    "names = [1, 2, 3, 4]\n",
    "\n",
    "df['FESCARI'] = pd.cut(df['FES2'], bins, labels=names)"
   ]
  },
  {
   "cell_type": "code",
   "execution_count": 69,
   "id": "ca60d4af",
   "metadata": {},
   "outputs": [],
   "source": [
    "df.dropna(subset=[\"FESCARI\"], inplace=True)"
   ]
  },
  {
   "cell_type": "markdown",
   "id": "5bdaec7a",
   "metadata": {},
   "source": [
    "# ECMEN"
   ]
  },
  {
   "cell_type": "code",
   "execution_count": 70,
   "id": "75f5ae3f",
   "metadata": {},
   "outputs": [],
   "source": [
    "df['ECMENs'] = df['HHExpTotal'] / (df['HHSize']*550) "
   ]
  },
  {
   "cell_type": "markdown",
   "id": "e47251df",
   "metadata": {},
   "source": [
    "## ECMEN Categories"
   ]
  },
  {
   "cell_type": "code",
   "execution_count": 71,
   "id": "e9090a2b",
   "metadata": {},
   "outputs": [],
   "source": [
    "bins = [0, .74, 1, np.inf]\n",
    "names = ['BelowfMEB', 'BelowMEB', 'AboveMEB']\n",
    "\n",
    "df['ECMEN'] = pd.cut(df['ECMENs'], bins, labels=names)"
   ]
  },
  {
   "cell_type": "markdown",
   "id": "00ea880e",
   "metadata": {},
   "source": [
    "# CARI WITH FES"
   ]
  },
  {
   "cell_type": "code",
   "execution_count": 72,
   "id": "f41418d4",
   "metadata": {},
   "outputs": [],
   "source": [
    "df[\"MCB\"] = df[\"MCB\"].astype(int)\n",
    "df[\"FESCARI\"] = df[\"FESCARI\"].astype(int)\n",
    "df[\"FCS_4pt\"] = df[\"FCS_4pt\"].astype(int)\n",
    "\n",
    "df['Mean_coping_capacity_FES'] = np.mean([df['MCB'], df['FESCARI']], axis=0)\n",
    "df['Mean_coping_capacity_FES'] = np.floor(df['Mean_coping_capacity_FES'])\n",
    "df['CARI_unrounded_FES'] = np.mean([df['FCS_4pt'], df['Mean_coping_capacity_FES']], axis=0)\n",
    "df['CARI_FES'] = np.ceil(df['CARI_unrounded_FES'])"
   ]
  },
  {
   "cell_type": "code",
   "execution_count": 73,
   "id": "49aa2ae7",
   "metadata": {},
   "outputs": [],
   "source": [
    "df['CARI_FESc'] = np.where(df['CARI_FES'] == 1, 'Food Secure', df['CARI_FES'])\n",
    "df['CARI_FESc'] = np.where(df['CARI_FES'] == 2, 'Marginally Food Secure', df['CARI_FESc'])\n",
    "df['CARI_FESc'] = np.where(df['CARI_FES'] == 3, 'Moderately Food Insecure', df['CARI_FESc'])\n",
    "df['CARI_FESc'] = np.where(df['CARI_FES'] == 4, 'Severely Food Insecure', df['CARI_FESc'])"
   ]
  },
  {
   "cell_type": "markdown",
   "id": "ebc9af6a",
   "metadata": {},
   "source": [
    "### Results to Excel"
   ]
  },
  {
   "cell_type": "markdown",
   "id": "9ce80213",
   "metadata": {},
   "source": [
    "### Load Results"
   ]
  },
  {
   "cell_type": "markdown",
   "id": "fff3bf74",
   "metadata": {},
   "source": [
    "# Table Outputs"
   ]
  },
  {
   "cell_type": "markdown",
   "id": "da829815",
   "metadata": {},
   "source": [
    "### Demographics"
   ]
  },
  {
   "cell_type": "code",
   "execution_count": 74,
   "id": "7676d746",
   "metadata": {},
   "outputs": [],
   "source": [
    "var_list = ['HHHGender','HHHAgeC','HHSizeC', 'DepRatioC', 'HHMainIncome']\n",
    "Indi_list = ['ADMIN0Name', 'District']\n",
    "if not os.path.exists('Results'):\n",
    "    os.makedirs('Results')\n",
    "\n",
    "for var in var_list:\n",
    "    for ind in Indi_list:\n",
    "    \n",
    "        var_grouped = df.groupby(ind)\n",
    "        var_counts = var_grouped[var].value_counts()\n",
    "        var_percents = var_grouped[var].value_counts(normalize=True)\n",
    "        var_results = pd.DataFrame({'Counts': var_counts, 'Percentage': var_percents})\n",
    "        var_results = var_results.reset_index()\n",
    "        var_results = pd.pivot_table(var_results, values='Percentage', index=[ind], columns=[var_results.columns[1]], aggfunc=np.sum)\n",
    "        output_file = f\"Results/{var}_{ind}.xlsx\"    \n",
    "        writer = pd.ExcelWriter(output_file, engine='xlsxwriter') \n",
    "        var_results.to_excel(writer, sheet_name='Results')\n",
    "        writer.close()"
   ]
  },
  {
   "cell_type": "markdown",
   "id": "b47d50c2",
   "metadata": {},
   "source": [
    "### Food Security and Valnurebility Indicators"
   ]
  },
  {
   "cell_type": "code",
   "execution_count": 75,
   "id": "8ad460dc",
   "metadata": {},
   "outputs": [],
   "source": [
    "var_list = ['FCSC', 'FCS_4pt', 'HDDsC', 'RCSi','FGVitA','FGProtein','FGIron','MCB', 'FESc', 'ECMEN', 'CARI_FESc']\n",
    "Indi_list = ['ADMIN0Name', 'District', 'HHHGender', 'HHHAgeC', 'HHSizeC', 'DepRatioC', 'HHMainIncome']\n",
    "if not os.path.exists('Results'):\n",
    "    os.makedirs('Results')\n",
    "\n",
    "for var in var_list:\n",
    "    for ind in Indi_list:\n",
    "    \n",
    "        var_grouped = df.groupby(ind)\n",
    "        var_counts = var_grouped[var].value_counts()\n",
    "        var_percents = var_grouped[var].value_counts(normalize=True)\n",
    "        var_results = pd.DataFrame({'Counts': var_counts, 'Percentage': var_percents})\n",
    "        var_results = var_results.reset_index()\n",
    "        var_results = pd.pivot_table(var_results, values='Percentage', index=[ind], columns=[var_results.columns[1]], aggfunc=np.sum)\n",
    "        output_file = f\"Results/{var}_{ind}.xlsx\"    \n",
    "        writer = pd.ExcelWriter(output_file, engine='xlsxwriter') \n",
    "        var_results.to_excel(writer, sheet_name='Results')\n",
    "        writer.close()"
   ]
  },
  {
   "cell_type": "markdown",
   "id": "8c75d163",
   "metadata": {},
   "source": [
    "### RCSi and HHSize Averages"
   ]
  },
  {
   "cell_type": "code",
   "execution_count": 76,
   "id": "6dadb259",
   "metadata": {},
   "outputs": [],
   "source": [
    "var_list = ['RCSi','HHSize']\n",
    "Indi_list = ['ADMIN0Name', 'District', 'HHHGender', 'HHHAgeC', 'HHSizeC', 'DepRatioC', 'HHMainIncome']\n",
    "if not os.path.exists('Results'):\n",
    "    os.makedirs('Results')\n",
    "\n",
    "for var in var_list:\n",
    "    for ind in Indi_list:\n",
    "    \n",
    "        var_grouped = df.groupby(ind)\n",
    "        var_means = var_grouped[var].mean()\n",
    "        var_results = pd.DataFrame({'Mean Value': var_means})\n",
    "        var_results = var_results.reset_index()\n",
    "        output_file = f\"Results/{var}mean_{ind}.xlsx\"    \n",
    "        writer = pd.ExcelWriter(output_file, engine='xlsxwriter') \n",
    "        var_results.to_excel(writer, sheet_name='Results')\n",
    "        writer.close()"
   ]
  }
 ],
 "metadata": {
  "kernelspec": {
   "display_name": "Python 3 (ipykernel)",
   "language": "python",
   "name": "python3"
  },
  "language_info": {
   "codemirror_mode": {
    "name": "ipython",
    "version": 3
   },
   "file_extension": ".py",
   "mimetype": "text/x-python",
   "name": "python",
   "nbconvert_exporter": "python",
   "pygments_lexer": "ipython3",
   "version": "3.9.13"
  }
 },
 "nbformat": 4,
 "nbformat_minor": 5
}
