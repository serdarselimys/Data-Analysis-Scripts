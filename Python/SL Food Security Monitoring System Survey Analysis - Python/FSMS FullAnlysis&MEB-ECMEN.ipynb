{
 "cells": [
  {
   "cell_type": "code",
   "execution_count": 1,
   "id": "2a8d43a8",
   "metadata": {},
   "outputs": [],
   "source": [
    "import pandas as pd\n",
    "import numpy as np\n",
    "from difflib import SequenceMatcher\n",
    "import os\n",
    "import warnings\n",
    "warnings.filterwarnings('ignore')\n",
    "\n",
    "df = pd.read_excel(r'C:\\Users\\serdar.yesildag\\Desktop\\VAM M&E\\1Reports\\FSMS\\February 2023\\Analysis\\RAW Datasets\\FSMSFeb23.xlsx')"
   ]
  },
  {
   "cell_type": "code",
   "execution_count": 2,
   "id": "bfb3936a",
   "metadata": {},
   "outputs": [],
   "source": [
    "MetaData = [col for col in df.columns if col[:2] == '@_']"
   ]
  },
  {
   "cell_type": "code",
   "execution_count": 3,
   "id": "142c614c",
   "metadata": {
    "scrolled": true
   },
   "outputs": [],
   "source": [
    "Location = [col for col in df.columns if col[:5] == 'ADMIN' and col[-5:] != '3Name' and col[-5:] != '4Name' and col[-5:] != '5Name']"
   ]
  },
  {
   "cell_type": "code",
   "execution_count": 4,
   "id": "89ad6b1e",
   "metadata": {},
   "outputs": [],
   "source": [
    "df['District'] = np.where(df['ADMIN2Name'] == 'CC101', 'Kailahun', df['ADMIN2Name'])\n",
    "df['District'] = np.where(df['ADMIN2Name'] == 'CC102', 'Kenema', df['District'])\n",
    "df['District'] = np.where(df['ADMIN2Name'] == 'CC103', 'Kono', df['District'])\n",
    "df['District'] = np.where(df['ADMIN2Name'] == 'CC104', 'Bombali', df['District'])\n",
    "df['District'] = np.where(df['ADMIN2Name'] == 'CC105', 'Falaba', df['District'])\n",
    "df['District'] = np.where(df['ADMIN2Name'] == 'CC106', 'Koinadugu', df['District'])\n",
    "df['District'] = np.where(df['ADMIN2Name'] == 'CC107', 'Tonkolili', df['District'])\n",
    "df['District'] = np.where(df['ADMIN2Name'] == 'CC108', 'Kambia', df['District'])\n",
    "df['District'] = np.where(df['ADMIN2Name'] == 'CC109', 'Karene', df['District'])\n",
    "df['District'] = np.where(df['ADMIN2Name'] == 'CC110', 'Port Loko', df['District'])\n",
    "df['District'] = np.where(df['ADMIN2Name'] == 'CC111', 'Bo', df['District'])\n",
    "df['District'] = np.where(df['ADMIN2Name'] == 'CC112', 'Bonthe', df['District'])\n",
    "df['District'] = np.where(df['ADMIN2Name'] == 'CC113', 'Moyamba', df['District'])\n",
    "df['District'] = np.where(df['ADMIN2Name'] == 'CC114', 'Pujehun', df['District'])\n",
    "df['District'] = np.where(df['ADMIN2Name'] == 'CC115', 'Western Area Rural', df['District'])\n",
    "df['District'] = np.where(df['ADMIN2Name'] == 'CC116', 'Western Area Urban', df['District'])"
   ]
  },
  {
   "cell_type": "code",
   "execution_count": 5,
   "id": "ed9a4c88",
   "metadata": {},
   "outputs": [],
   "source": [
    "df['ResGen'] = df['RESPSex'][df['RESPRelationHHH']==100]\n",
    "df.ResGen.fillna(df.HHHSex, inplace=True)\n",
    "df['HHHGender'] = df['ResGen'].map({0: 'Female', 1: 'Male'})\n",
    "\n",
    "df['ResAge'] = df['RESPAge'][df['RESPRelationHHH']==100]\n",
    "df.ResAge.fillna(df.HHHAge, inplace=True)\n",
    "df['HHHAge'] = df['ResAge']\n",
    "\n",
    "HHHAgebins = [16, 36, 65, np.inf]\n",
    "HHHAgenames = ['16 to 35', '36 to 64', '65 and Older']\n",
    "\n",
    "df['HHHAgeC'] = pd.cut(df['HHHAge'], HHHAgebins, labels=HHHAgenames)"
   ]
  },
  {
   "cell_type": "code",
   "execution_count": 6,
   "id": "38afa044",
   "metadata": {},
   "outputs": [
    {
     "data": {
      "text/plain": [
       "['HHHSex', 'HHHAge', 'HHHGender', 'HHHAgeC']"
      ]
     },
     "execution_count": 6,
     "metadata": {},
     "output_type": "execute_result"
    }
   ],
   "source": [
    "HHHead = [col for col in df.columns if col[:3] == 'HHH']\n",
    "list(HHHead)"
   ]
  },
  {
   "cell_type": "code",
   "execution_count": 7,
   "id": "7f913c02",
   "metadata": {},
   "outputs": [],
   "source": [
    "HHSize = [col for col in df.columns if col[:6] == 'HHSize' and col[-1:] == 'F' or col[:6] == 'HHSize' and col[-1:] == 'M']\n",
    "df['HHSize'] = df[HHSize].sum(axis=1)\n",
    "\n",
    "HHSizebins = [0, 4, 8, 12, np.inf]\n",
    "HHSizenames = ['1 to 4', '5 to 8', '9 to 12', '13 and More']\n",
    "\n",
    "df['HHSizeC'] = pd.cut(df['HHSize'], HHSizebins, labels=HHSizenames)"
   ]
  },
  {
   "cell_type": "code",
   "execution_count": 8,
   "id": "050bcb1f",
   "metadata": {},
   "outputs": [],
   "source": [
    "Depnt = [col for col in df.columns if col[:6] == 'HHSize' and col[-5:] != '1864F' and col[-5:] != '1864M']\n",
    "Depnt.remove('HHSize')\n",
    "df['Depnt'] = df[Depnt].sum(axis=1)"
   ]
  },
  {
   "cell_type": "code",
   "execution_count": 9,
   "id": "5b72f94c",
   "metadata": {},
   "outputs": [],
   "source": [
    "Child = [col for col in df.columns if col[:6] == 'HHSize' and col[-5:] != '1864F' and col[-5:] != '1864M' and col[-6:] != 'AboveM' and col[-6:] != 'AboveF']\n",
    "Child.remove('HHSize')\n",
    "df['Child'] = df[Child].sum(axis=1)"
   ]
  },
  {
   "cell_type": "code",
   "execution_count": 10,
   "id": "456f726a",
   "metadata": {},
   "outputs": [],
   "source": [
    "Elderly = [col for col in df.columns if col[-6:] == 'AboveM' or col[-6:] == 'AboveF']\n",
    "\n",
    "df['Elderly'] = df[Elderly].sum(axis=1)"
   ]
  },
  {
   "cell_type": "code",
   "execution_count": 11,
   "id": "41426c14",
   "metadata": {},
   "outputs": [],
   "source": [
    "df[\"NAdult\"] = (df['HHSize'] - df['Depnt'])"
   ]
  },
  {
   "cell_type": "code",
   "execution_count": 12,
   "id": "175506ac",
   "metadata": {},
   "outputs": [],
   "source": [
    "df[\"DepRatio\"] = df[\"Depnt\"] / df[\"NAdult\"]\n",
    "\n",
    "DepRbins = [0, 1.5, 3, np.inf]\n",
    "DepRnames = ['Low', 'High', 'Very High']\n",
    "\n",
    "df['DepRatioC'] = pd.cut(df['DepRatio'], DepRbins, labels=DepRnames)"
   ]
  },
  {
   "cell_type": "code",
   "execution_count": 13,
   "id": "a0b9fdc9",
   "metadata": {},
   "outputs": [],
   "source": [
    "df['HHMainIncome'] = df['HHIncFirst_SRi'].replace({1:'Waged labor', 2:'Waged labor', \n",
    "                                                               3:'Waged labor', 4:'Waged labor', 5:'Other', 6:'Other',\n",
    "                                                               7:'Other', 8:'Other', 9:'Other', 10:'Other', 999:'Other',\n",
    "                                                               11:'Trade', 12:'Trade', 13:'Trade', 14:'Agriculture', 15:'Agriculture'})\n"
   ]
  },
  {
   "cell_type": "markdown",
   "id": "bbce765c",
   "metadata": {},
   "source": [
    "# Food Security Indicators"
   ]
  },
  {
   "cell_type": "markdown",
   "id": "bf92a127",
   "metadata": {},
   "source": [
    "## RCSi"
   ]
  },
  {
   "cell_type": "code",
   "execution_count": 14,
   "id": "f3db5411",
   "metadata": {},
   "outputs": [],
   "source": [
    "df[\"RCSi\"] = (df['rCSILessQlty']*1) + (df['rCSIBorrow']*2) + (df['rCSIMealSize']*1) + (df['rCSIMealAdult']*3) + (df['rCSIMealNb']*1)"
   ]
  },
  {
   "cell_type": "markdown",
   "id": "5ee100f5",
   "metadata": {},
   "source": [
    "## Food Consumption Score"
   ]
  },
  {
   "cell_type": "code",
   "execution_count": 15,
   "id": "0c7763e2",
   "metadata": {},
   "outputs": [],
   "source": [
    "df[\"FCS\"] = (df['FCSStap']*2) + (df['FCSPulse']*3) + (df['FCSDairy']*4) + (df['FCSPr']*4) + (df['FCSVeg']*1) + (df['FCSFruit']*1) + (df['FCSFat']*.5) + (df['FCSSugar']*.5)"
   ]
  },
  {
   "cell_type": "code",
   "execution_count": 16,
   "id": "d53c0401",
   "metadata": {},
   "outputs": [],
   "source": [
    "FCSbins = [0, 21, 35, np.inf]\n",
    "FCSnames = ['Poor', 'Borderline', 'Acceptable']\n",
    "\n",
    "df['FCSC'] = pd.cut(df['FCS'], FCSbins, labels=FCSnames)"
   ]
  },
  {
   "cell_type": "markdown",
   "id": "32261e64",
   "metadata": {},
   "source": [
    "## Food Consumtion Score 4 Point"
   ]
  },
  {
   "cell_type": "code",
   "execution_count": 17,
   "id": "0c18f3a8",
   "metadata": {},
   "outputs": [],
   "source": [
    "df['FCS_4pt'] = pd.cut(df['FCS'], bins=[0, 21, 35, df['FCS'].max()], labels=[4, 3, 1])\n",
    "df['FCS_4pt'] = np.where(df['RCSi'] >= 4, np.where(df['FCS_4pt'] == 1, 2, df['FCS_4pt']), df['FCS_4pt'])"
   ]
  },
  {
   "cell_type": "markdown",
   "id": "37761285",
   "metadata": {},
   "source": [
    "## FCS Nutrition "
   ]
  },
  {
   "cell_type": "code",
   "execution_count": 18,
   "id": "c1789b66",
   "metadata": {},
   "outputs": [],
   "source": [
    "df[\"FGVitA\"] = (df['FCSDairy']) + (df['FCSPrMeatO']) + (df['FCSPrEgg']) + (df['FCSVegOrg']) + (df['FCSVegGre']) + (df['FCSFruitOrg'])\n",
    "df[\"FGProtein\"] = (df['FCSPulse']) + (df['FCSDairy']) + (df['FCSPrMeatF']) + (df['FCSPrMeatO']) + (df['FCSPrFish']) + (df['FCSPrEgg'])\n",
    "df[\"FGIron\"] = (df['FCSPrMeatF']) + (df['FCSPrMeatO']) + (df['FCSPrFish'])"
   ]
  },
  {
   "cell_type": "code",
   "execution_count": 19,
   "id": "e1f057fa",
   "metadata": {},
   "outputs": [],
   "source": [
    "FCSNbins = [-np.inf, 0, 6, 42]\n",
    "FCSNnames = ['Never consumed', 'Consumed sometimes', 'Consumed at least 7 times']\n",
    "\n",
    "df['FGVitA'] = pd.cut(df['FGVitA'], FCSNbins, labels=FCSNnames)"
   ]
  },
  {
   "cell_type": "code",
   "execution_count": 20,
   "id": "39715ea0",
   "metadata": {},
   "outputs": [],
   "source": [
    "FCSNbins = [-np.inf, 0, 6, 42]\n",
    "FCSNnames = ['Never consumed', 'Consumed sometimes', 'Consumed at least 7 times']\n",
    "\n",
    "df['FGProtein'] = pd.cut(df['FGProtein'], FCSNbins, labels=FCSNnames)"
   ]
  },
  {
   "cell_type": "code",
   "execution_count": 21,
   "id": "fa8be0d4",
   "metadata": {},
   "outputs": [],
   "source": [
    "FCSNbins = [-np.inf, 0, 6, 42]\n",
    "FCSNnames = ['Never consumed', 'Consumed sometimes', 'Consumed at least 7 times']\n",
    "\n",
    "df['FGIron'] = pd.cut(df['FGIron'], FCSNbins, labels=FCSNnames)"
   ]
  },
  {
   "cell_type": "markdown",
   "id": "5efe640c",
   "metadata": {},
   "source": [
    "## Dietary Diversity Score"
   ]
  },
  {
   "cell_type": "code",
   "execution_count": 22,
   "id": "e38822da",
   "metadata": {},
   "outputs": [],
   "source": [
    "df[\"HDDSVegSum\"] = df['HDDSVegOrg'] + df['HDDSVegGre'] + df['HDDSVegOth']\n",
    "df[\"HDDSPrMeatSum\"] = df['HDDSPrMeatF'] + df['HDDSPrMeatO']\n",
    "df[\"HDDSFruitSum\"] = df['HDDSFruitOrg'] + df['HDDSFruitOth']\n",
    "\n",
    "df[\"HDDSVeg\"] = np.where(df['HDDSVegSum'] > 0, 1, df['HDDSVegSum'])\n",
    "df[\"HDDSPrMeat\"] = np.where(df['HDDSPrMeatSum'] > 0, 1, df['HDDSPrMeatSum'])\n",
    "df[\"HDDSFruit\"] = np.where(df['HDDSFruitSum'] > 0, 1, df['HDDSFruitSum'])"
   ]
  },
  {
   "cell_type": "code",
   "execution_count": 23,
   "id": "5ecfd3f4",
   "metadata": {},
   "outputs": [],
   "source": [
    "df['HDDs'] = df['HDDSStapCer'] + df['HDDSStapRoot'] + df['HDDSVeg'] + df['HDDSFruit'] + df['HDDSPrMeat'] + df['HDDSPrEgg'] + df['HDDSPrFish'] + df['HDDSPulse'] + df['HDDSDairy'] + df['HDDSFat']+ df['HDDSSugar'] + df['HDDSCond']"
   ]
  },
  {
   "cell_type": "markdown",
   "id": "f96c4a8f",
   "metadata": {},
   "source": [
    "## DDS Categories"
   ]
  },
  {
   "cell_type": "code",
   "execution_count": 24,
   "id": "cee7b79b",
   "metadata": {},
   "outputs": [],
   "source": [
    "bins = [0, 2, 4, 6, np.inf]\n",
    "names = ['2 and Less', '3 to 4', '5', '6 and more']\n",
    "\n",
    "df['HDDsC'] = pd.cut(df['HDDs'], bins, labels=names)"
   ]
  },
  {
   "cell_type": "markdown",
   "id": "6c32a869",
   "metadata": {},
   "source": [
    "# Livelihood Coping Strategies"
   ]
  },
  {
   "cell_type": "code",
   "execution_count": 25,
   "id": "de455c11",
   "metadata": {},
   "outputs": [],
   "source": [
    "LCSiIndList = ['Lcs_stress_DomAsset', 'Lcs_stress_Saving', 'Lcs_stress_EatOut', 'Lcs_stress_CrdtFood', 'Lcs_stress_BorrowCash', 'Lcs_stress_Pawn', 'Lcs_stress_LessSchool', 'Lcs_crisis_ProdAssets', 'Lcs_crisis_Health', 'Lcs_crisis_Edu', 'Lcs_stress_Edu', 'Lcs_crisis_Housing', 'Lcs_stress_Housing', 'Lcs_crisis_HHSeparation', 'Lcs_stress_HHSeparation', 'Lcs_crisis_OutSchool', 'Lcs_em_OutSchool', 'Lcs_crisis_Migration', 'Lcs_em_Migration', 'Lcs_crisis_ChildWork', 'Lcs_em_ChildWork', 'Lcs_em_Marriage', 'Lcs_crisis_Marriage', 'Lcs_em_ResAsset', 'Lcs_em_Begged', 'Lcs_em_IllegalAct', 'Lcs_em_ChildMigration', 'Lcs_stress_ConsActive', 'Lcs_crisis_ConsActive', 'Lcs_stress_SellFoodRation', 'Lcs_stress_SellNFIRation', 'Lcs_crisis_Utilities', 'Lcs_stress_Utilities', 'Lcs_crisis_Barter', 'Lcs_em_WildFood']"
   ]
  },
  {
   "cell_type": "code",
   "execution_count": 26,
   "id": "d038a21e",
   "metadata": {},
   "outputs": [],
   "source": [
    "vars_to_process = [var for var in LCSiIndList if var in df.columns]\n",
    "for var in vars_to_process:\n",
    "    df[var] = df[var].replace({30:1, 20:1, 10:0, 9999:0})"
   ]
  },
  {
   "cell_type": "code",
   "execution_count": 27,
   "id": "049d2cd2",
   "metadata": {},
   "outputs": [],
   "source": [
    "stress_vars = [var for var in vars_to_process if 'stress' in var]\n",
    "if stress_vars:\n",
    "    df['stress_coping'] = df[stress_vars].sum(axis=1)\n",
    "    df['stress_coping'] = np.where(df['stress_coping'] >= 1, 2, 0)\n",
    "\n",
    "crisis_vars = [var for var in vars_to_process if 'crisis' in var]\n",
    "if crisis_vars:\n",
    "    df['crisis_coping'] = df[crisis_vars].sum(axis=1)\n",
    "    df['crisis_coping'] = np.where(df['crisis_coping'] >= 1, 3, 0)\n",
    "\n",
    "emergency_vars = [var for var in vars_to_process if '_em_' in var]\n",
    "if emergency_vars:\n",
    "    df['emergency_coping'] = df[emergency_vars].sum(axis=1)\n",
    "    df['emergency_coping'] = np.where(df['emergency_coping'] >= 1, 4, 0)"
   ]
  },
  {
   "cell_type": "code",
   "execution_count": 28,
   "id": "25b0b44f",
   "metadata": {},
   "outputs": [],
   "source": [
    "df[\"LCSi\"] = df[[\"stress_coping\", \"crisis_coping\", \"emergency_coping\"]].max(axis=1)"
   ]
  },
  {
   "cell_type": "markdown",
   "id": "fd0f7b95",
   "metadata": {},
   "source": [
    "# Household Food Expenditure Share"
   ]
  },
  {
   "cell_type": "markdown",
   "id": "4d5ed5da",
   "metadata": {},
   "source": [
    "## Food Items Expenditure"
   ]
  },
  {
   "cell_type": "code",
   "execution_count": 29,
   "id": "6f42a304",
   "metadata": {},
   "outputs": [],
   "source": [
    "HHFExpMN = [col for col in df.columns if col[:6] == 'HHExpF' and col[-5:] == 'MN_1M' and col[-15:] != 'HHExpFood_MN_1M']\n",
    "df['HHExp_Food_MN_1M'] = df[HHFExpMN].sum(axis=1)"
   ]
  },
  {
   "cell_type": "code",
   "execution_count": 30,
   "id": "fa55f320",
   "metadata": {},
   "outputs": [],
   "source": [
    "HHFExpCRD = [col for col in df.columns if col[:6] == 'HHExpF' and col[-6:] == 'CRD_1M' and col[-16:] != 'HHExpFood_CRD_1M']\n",
    "df['HHExp_Food_CRD_1M'] = df[HHFExpCRD].sum(axis=1)"
   ]
  },
  {
   "cell_type": "code",
   "execution_count": 31,
   "id": "1052f355",
   "metadata": {},
   "outputs": [],
   "source": [
    "HHFExpOWN = [col for col in df.columns if col[:6] == 'HHExpF' and col[-6:] == 'Own_1M' and col[-16:] != 'HHExpFood_Own_1M']\n",
    "df['HHExp_Food_Own_1M'] = df[HHFExpOWN].sum(axis=1)"
   ]
  },
  {
   "cell_type": "code",
   "execution_count": 32,
   "id": "514d9ddf",
   "metadata": {},
   "outputs": [],
   "source": [
    "HHFExpGift = [col for col in df.columns if col[:6] == 'HHExpF' and col[-10:] == 'GiftAid_1M' and col[-20:] != 'HHExpFood_GiftAid_1M']\n",
    "df['HHExp_Food_GiftAid_1M'] = df[HHFExpGift].sum(axis=1)"
   ]
  },
  {
   "cell_type": "markdown",
   "id": "332216a1",
   "metadata": {},
   "source": [
    "### HH Monthly Food Expenditure"
   ]
  },
  {
   "cell_type": "code",
   "execution_count": 33,
   "id": "dba8b504",
   "metadata": {},
   "outputs": [],
   "source": [
    "df[\"HHExpFood_1M\"] = (df['HHExp_Food_MN_1M'] + df['HHExp_Food_CRD_1M'] + df['HHExp_Food_Own_1M'] + df['HHExp_Food_GiftAid_1M'])"
   ]
  },
  {
   "cell_type": "markdown",
   "id": "f6514f19",
   "metadata": {},
   "source": [
    "## Food Expenditure W/Out Cond, Foodout & Bevs."
   ]
  },
  {
   "cell_type": "code",
   "execution_count": 34,
   "id": "586fc5cf",
   "metadata": {
    "scrolled": true
   },
   "outputs": [],
   "source": [
    "HHFExpMN2 = [col for col in HHFExpMN if (col[:6] == 'HHExpF' and col[-10:] != 'Cond_MN_1M' and col[-14:] != 'Beverage_MN_1M'\n",
    "                                         and col[-9:] != 'Out_MN_1M')]\n",
    "df['HHExp_Food_MN_1M2'] = df[HHFExpMN2].sum(axis=1)"
   ]
  },
  {
   "cell_type": "code",
   "execution_count": 35,
   "id": "355c5369",
   "metadata": {},
   "outputs": [],
   "source": [
    "HHFExpCRD2 = [col for col in HHFExpCRD if (col[:6] == 'HHExpF' and col[-11:] != 'Cond_CRD_1M' and col[-15:] != 'Beverage_CRD_1M'\n",
    "                                         and col[-10:] != 'Out_CRD_1M')]\n",
    "df['HHExp_Food_CRD_1M2'] = df[HHFExpCRD2].sum(axis=1)"
   ]
  },
  {
   "cell_type": "code",
   "execution_count": 36,
   "id": "2159349d",
   "metadata": {},
   "outputs": [],
   "source": [
    "HHFExpOWN2 = [col for col in HHFExpOWN if (col[:6] == 'HHExpF' and col[-11:] != 'Cond_OWN_1M' and col[-15:] != 'Beverage_OWN_1M'\n",
    "                                         and col[-10:] != 'Out_OWN_1M')]\n",
    "df['HHExp_Food_OWN_1M2'] = df[HHFExpOWN2].sum(axis=1)"
   ]
  },
  {
   "cell_type": "code",
   "execution_count": 37,
   "id": "8be91072",
   "metadata": {},
   "outputs": [],
   "source": [
    "HHFExpGift2 = [col for col in HHFExpOWN if (col[:6] == 'HHExpF' and col[-12:] != 'Cond_Gift_1M' and col[-16:] != 'Beverage_Gift_1M'\n",
    "                                         and col[-11:] != 'Out_Gift_1M')]\n",
    "df['HHExp_Food_GiftAid_1M2'] = df[HHFExpGift2].sum(axis=1)"
   ]
  },
  {
   "cell_type": "code",
   "execution_count": 38,
   "id": "52f7dd93",
   "metadata": {},
   "outputs": [],
   "source": [
    "df[\"HHExpFood_1M2\"] = (df['HHExp_Food_MN_1M2'] + df['HHExp_Food_CRD_1M2'] + df['HHExp_Food_OWN_1M2'] + df['HHExp_Food_GiftAid_1M2'])"
   ]
  },
  {
   "cell_type": "markdown",
   "id": "5a8a32e0",
   "metadata": {},
   "source": [
    "## Non-Food Item Expenditures"
   ]
  },
  {
   "cell_type": "markdown",
   "id": "f86a31f5",
   "metadata": {},
   "source": [
    "### NFI Cash Expenditure"
   ]
  },
  {
   "cell_type": "code",
   "execution_count": 39,
   "id": "4ab237b4",
   "metadata": {},
   "outputs": [],
   "source": [
    "HHExpNFINT_MN = [col for col in df.columns if (col[:7] == 'HHExpNF' and col[-10:] == 'Rent_MN_6M' or col[-13:] == 'MedServ_MN_6M'\n",
    "                                          or col[-13:] == 'MedGood_MN_6M' or col[-11:] == 'Cloth_MN_6M'\n",
    "                                          or col[-12:] == 'EduFee_MN_6M' or col[-13:] == 'EduGood_MN_6M'\n",
    "                                          or col[-10:] == 'Soft_MN_6M' or col[-10:] == 'Sav_Est_6M'\n",
    "                                          or col[-15:] == 'Insurance_MN_6M' or col[-11:] == 'Debt_Est_6M')]\n",
    "df['HHExpNFTotal_MN_Int_30D'] = (df[HHExpNFINT_MN].sum(axis=1)/6)"
   ]
  },
  {
   "cell_type": "code",
   "execution_count": 40,
   "id": "13d6b3fc",
   "metadata": {},
   "outputs": [],
   "source": [
    "HHExpNFCONS_MN = [col for col in df.columns if (col[:7] == 'HHExpNF' and col[-14:] == 'AlcTobac_MN_6M' or col[-9:] == 'Hyg_MN_6M'\n",
    "                                          or col[-12:] == 'Transp_MN_6M' or col[-9:] == 'Wat_MN_6M'\n",
    "                                          or col[-14:] == 'DwelServ_MN_6M' or col[-10:] == 'Elec_MN_6M'\n",
    "                                          or col[-11:] == 'Energ_MN_6M' or col[-11:] == 'Phone_MN_6M')]\n",
    "df['HHExpNFTotal_MN_CONS_30D'] = (df[HHExpNFCONS_MN].sum(axis=1)/6)"
   ]
  },
  {
   "cell_type": "code",
   "execution_count": 41,
   "id": "9caf5be5",
   "metadata": {},
   "outputs": [],
   "source": [
    "df[\"HHExpNFTotal_MN_1M\"] = df['HHExpNFTotal_MN_Int_30D'] + df['HHExpNFTotal_MN_CONS_30D']"
   ]
  },
  {
   "cell_type": "markdown",
   "id": "99a7fdeb",
   "metadata": {},
   "source": [
    "### NFI Credit Expenditure"
   ]
  },
  {
   "cell_type": "code",
   "execution_count": 42,
   "id": "50ef129a",
   "metadata": {},
   "outputs": [],
   "source": [
    "HHExpNFInt_CRD = [col for col in df.columns if (col[:7] == 'HHExpNF' and col[-11:] == 'Rent_CRD_6M' or col[-14:] == 'MedServ_CRD_6M'\n",
    "                                           or col[-14:] == 'MedGood_CRD_6M' or col[-12:] == 'Cloth_CRD_6M' \n",
    "                                            or col[-13:] == 'EduFee_CRD_6M' or col[-14:] == 'EduGood_CRD_6M'\n",
    "                                           or col[-11:] == 'Soft_CRD_6M' or col[-16:] == 'Insurance_CRD_6M')]\n",
    "df[\"HHExpNFTotal_CRD_Int_30D\"] = (df[HHExpNFInt_CRD].sum(axis=1)/6)"
   ]
  },
  {
   "cell_type": "code",
   "execution_count": 43,
   "id": "dc2a4631",
   "metadata": {},
   "outputs": [],
   "source": [
    "HHExpNFCONS_CRD = [col for col in df.columns if (col[:7] == 'HHExpNF' and col[-15:] == 'AlcTobac_CRD_6M' or col[-10:] == 'Hyg_CRD_6M'\n",
    "                                          or col[-13:] == 'Transp_CRD_6M' or col[-10:] == 'Wat_CRD_6M'\n",
    "                                          or col[-15:] == 'DwelServ_CRD_6M' or col[-11:] == 'Elec_CRD_6M'\n",
    "                                          or col[-12:] == 'Energ_CRD_6M' or col[-12:] == 'Phone_CRD_6M')]\n",
    "df[\"HHExpNFTotal_CRD_CONS_30D\"] = (df[HHExpNFCONS_CRD].sum(axis=1)/6)"
   ]
  },
  {
   "cell_type": "code",
   "execution_count": 44,
   "id": "41336833",
   "metadata": {},
   "outputs": [],
   "source": [
    "df[\"HHExpNFTotal_CRD_1M\"] = df['HHExpNFTotal_CRD_Int_30D'] + df['HHExpNFTotal_CRD_CONS_30D']"
   ]
  },
  {
   "cell_type": "markdown",
   "id": "793e8b37",
   "metadata": {},
   "source": [
    "### NFI GiftAid Expenditure"
   ]
  },
  {
   "cell_type": "code",
   "execution_count": 45,
   "id": "b63e9886",
   "metadata": {
    "scrolled": true
   },
   "outputs": [],
   "source": [
    "HHExpNFInt_GiftAid = [col for col in df.columns if (col[:7] == 'HHExpNF' and col[-15:] == 'Rent_GiftAid_6M' or col[-18:] == 'MedServ_GiftAid_6M'\n",
    "                                           or col[-18:] == 'MedGood_GiftAid_6M' or col[-16:] == 'Cloth_GiftAid_6M' \n",
    "                                            or col[-17:] == 'EduFee_GiftAid_6M' or col[-18:] == 'EduGood_GiftAid_6M'\n",
    "                                           or col[-15:] == 'Soft_GiftAid_6M' or col[-20:] == 'Insurance_GiftAid_6M')]\n",
    "df[\"HHExpNFTotal_GiftAid_Int_30D\"] = (df[HHExpNFInt_GiftAid].sum(axis=1)/6)"
   ]
  },
  {
   "cell_type": "code",
   "execution_count": 46,
   "id": "18c764c2",
   "metadata": {},
   "outputs": [],
   "source": [
    "HHExpNFCONS_GiftAid = [col for col in df.columns if (col[:7] == 'HHExpNF' and col[-19:] == 'AlcTobac_GiftAid_6M' or col[-14:] == 'Hyg_GiftAid_6M'\n",
    "                                          or col[-17:] == 'Transp_GiftAid_6M' or col[-14:] == 'Wat_GiftAid_6M'\n",
    "                                          or col[-19:] == 'DwelServ_GiftAid_6M' or col[-15:] == 'Elec_GiftAid_6M'\n",
    "                                          or col[-16:] == 'Energ_GiftAid_6M' or col[-16:] == 'Phone_GiftAid_6M')]\n",
    "df[\"HHExpNFTotal_GiftAid_CONS_30D\"] = (df[HHExpNFCONS_GiftAid].sum(axis=1)/6)"
   ]
  },
  {
   "cell_type": "code",
   "execution_count": 47,
   "id": "bfe3119c",
   "metadata": {},
   "outputs": [],
   "source": [
    "df[\"HHExpNFTotal_GiftAid_1M\"] = df['HHExpNFTotal_GiftAid_Int_30D'] + df['HHExpNFTotal_GiftAid_CONS_30D']"
   ]
  },
  {
   "cell_type": "markdown",
   "id": "42c96db2",
   "metadata": {},
   "source": [
    "## Total Monthly NFI Household Expenditure"
   ]
  },
  {
   "cell_type": "code",
   "execution_count": 48,
   "id": "7b1c9285",
   "metadata": {},
   "outputs": [],
   "source": [
    "df[\"HHExpNFTotal_1M\"] = df['HHExpNFTotal_MN_1M'] + df['HHExpNFTotal_CRD_1M'] + df['HHExpNFTotal_GiftAid_1M']"
   ]
  },
  {
   "cell_type": "markdown",
   "id": "0c07f57c",
   "metadata": {},
   "source": [
    "## Food Expenditure Share"
   ]
  },
  {
   "cell_type": "code",
   "execution_count": 49,
   "id": "1df7f34a",
   "metadata": {},
   "outputs": [],
   "source": [
    "df[\"HHExpTotal\"] = (df['HHExpFood_1M'] + df['HHExpNFTotal_1M'])"
   ]
  },
  {
   "cell_type": "code",
   "execution_count": 50,
   "id": "153ec774",
   "metadata": {},
   "outputs": [],
   "source": [
    "df[\"FES\"] = df['HHExpFood_1M'] / df[\"HHExpTotal\"]"
   ]
  },
  {
   "cell_type": "code",
   "execution_count": 51,
   "id": "323665b4",
   "metadata": {},
   "outputs": [],
   "source": [
    "df[\"FES2\"] = df['HHExpFood_1M2'] / (df['HHExpFood_1M2'] + df['HHExpNFTotal_1M'])"
   ]
  },
  {
   "cell_type": "markdown",
   "id": "13f3f808",
   "metadata": {},
   "source": [
    "### FES Categories"
   ]
  },
  {
   "cell_type": "code",
   "execution_count": 52,
   "id": "b1fe2246",
   "metadata": {},
   "outputs": [],
   "source": [
    "bins = [0, 0.5, 0.65, 0.75, np.inf]\n",
    "names = ['<50%', '50% to 65%', '65% to 75%', '>75%']\n",
    "\n",
    "df['FESc'] = pd.cut(df['FES'], bins, labels=names)"
   ]
  },
  {
   "cell_type": "markdown",
   "id": "b27245ac",
   "metadata": {},
   "source": [
    "### FES CARI Categories"
   ]
  },
  {
   "cell_type": "code",
   "execution_count": 53,
   "id": "568203b4",
   "metadata": {},
   "outputs": [],
   "source": [
    "bins = [-np.inf, 0.5, 0.65, 0.75, np.inf]\n",
    "names = [1, 2, 3, 4]\n",
    "\n",
    "df['FESCARI'] = pd.cut(df['FES'], bins, labels=names)"
   ]
  },
  {
   "cell_type": "code",
   "execution_count": 54,
   "id": "c7750c95",
   "metadata": {},
   "outputs": [],
   "source": [
    "df.dropna(subset=[\"FESCARI\"], inplace=True)"
   ]
  },
  {
   "cell_type": "markdown",
   "id": "79cece7f",
   "metadata": {},
   "source": [
    "# ECMEN"
   ]
  },
  {
   "cell_type": "code",
   "execution_count": 55,
   "id": "abe404a9",
   "metadata": {},
   "outputs": [],
   "source": [
    "df['ECMENs'] = df['HHExpTotal'] / (df['HHSize']*897.5) "
   ]
  },
  {
   "cell_type": "markdown",
   "id": "f7efbf35",
   "metadata": {},
   "source": [
    "## ECMEN Categories"
   ]
  },
  {
   "cell_type": "code",
   "execution_count": 56,
   "id": "b829888f",
   "metadata": {},
   "outputs": [],
   "source": [
    "bins = [0, .74, 1, np.inf]\n",
    "names = ['BelowfMEB', 'BelowMEB', 'AboveMEB']\n",
    "\n",
    "df['ECMEN'] = pd.cut(df['ECMENs'], bins, labels=names)"
   ]
  },
  {
   "cell_type": "markdown",
   "id": "8d89fd95",
   "metadata": {},
   "source": [
    "## GAP Analysis & Transfer Value"
   ]
  },
  {
   "cell_type": "code",
   "execution_count": 83,
   "id": "8791d113",
   "metadata": {},
   "outputs": [],
   "source": [
    "df = df[df.HHExpTotal <= 100000]\n",
    "df = df[df.HHSize >= 1]"
   ]
  },
  {
   "cell_type": "code",
   "execution_count": 90,
   "id": "9866ec4f",
   "metadata": {},
   "outputs": [],
   "source": [
    "df['Needs_GAP'] = ((df['HHSize']*897.5) - df['HHExpTotal'])"
   ]
  },
  {
   "cell_type": "code",
   "execution_count": 91,
   "id": "214f9f08",
   "metadata": {},
   "outputs": [],
   "source": [
    "df[\"TransV\"] = (df['Needs_GAP']/df['HHSize'])"
   ]
  },
  {
   "cell_type": "code",
   "execution_count": 92,
   "id": "1d7ab5a1",
   "metadata": {},
   "outputs": [
    {
     "data": {
      "text/plain": [
       "585.6065397157994"
      ]
     },
     "execution_count": 92,
     "metadata": {},
     "output_type": "execute_result"
    }
   ],
   "source": [
    "df[\"TransV\"].mean()"
   ]
  },
  {
   "cell_type": "code",
   "execution_count": 93,
   "id": "1005975d",
   "metadata": {},
   "outputs": [
    {
     "data": {
      "text/plain": [
       "count    5081.000000\n",
       "mean      585.606540\n",
       "std       355.609779\n",
       "min     -9726.296296\n",
       "25%       545.192308\n",
       "50%       659.895833\n",
       "75%       736.388889\n",
       "max       897.092593\n",
       "Name: TransV, dtype: float64"
      ]
     },
     "execution_count": 93,
     "metadata": {},
     "output_type": "execute_result"
    }
   ],
   "source": [
    "df.TransV.describe()"
   ]
  },
  {
   "cell_type": "markdown",
   "id": "4caee940",
   "metadata": {},
   "source": [
    "# CARI WITH FES"
   ]
  },
  {
   "cell_type": "code",
   "execution_count": 57,
   "id": "8bc02dd9",
   "metadata": {},
   "outputs": [],
   "source": [
    "df[\"LCSi\"] = df[\"LCSi\"].astype(int)\n",
    "df[\"FESCARI\"] = df[\"FESCARI\"].astype(int)\n",
    "df[\"FCS_4pt\"] = df[\"FCS_4pt\"].astype(int)\n",
    "\n",
    "df['Mean_coping_capacity_FES'] = np.mean([df['LCSi'], df['FESCARI']], axis=0)\n",
    "df['Mean_coping_capacity_FES'] = np.floor(df['Mean_coping_capacity_FES'])\n",
    "df['CARI_unrounded_FES'] = np.mean([df['FCS_4pt'], df['Mean_coping_capacity_FES']], axis=0)\n",
    "df['CARI_FES'] = np.ceil(df['CARI_unrounded_FES'])"
   ]
  },
  {
   "cell_type": "code",
   "execution_count": 58,
   "id": "c401253a",
   "metadata": {},
   "outputs": [],
   "source": [
    "df['CARI_FESc'] = np.where(df['CARI_FES'] == 1, 'Food Secure', df['CARI_FES'])\n",
    "df['CARI_FESc'] = np.where(df['CARI_FES'] == 2, 'Marginally Food Secure', df['CARI_FESc'])\n",
    "df['CARI_FESc'] = np.where(df['CARI_FES'] == 3, 'Moderately Food Insecure', df['CARI_FESc'])\n",
    "df['CARI_FESc'] = np.where(df['CARI_FES'] == 4, 'Severely Food Insecure', df['CARI_FESc'])"
   ]
  },
  {
   "cell_type": "markdown",
   "id": "1db51cd0",
   "metadata": {},
   "source": [
    "### Results to Excel"
   ]
  },
  {
   "cell_type": "markdown",
   "id": "ca84da75",
   "metadata": {},
   "source": [
    "# Table Outputs"
   ]
  },
  {
   "cell_type": "markdown",
   "id": "d595b7da",
   "metadata": {},
   "source": [
    "### Demographics"
   ]
  },
  {
   "cell_type": "code",
   "execution_count": 59,
   "id": "f85a3b1b",
   "metadata": {},
   "outputs": [],
   "source": [
    "var_list = ['HHHGender','HHHAgeC','HHSizeC', 'DepRatioC', 'HHMainIncome']\n",
    "Indi_list = ['ADMIN0Name', 'ADMIN2Name']\n",
    "if not os.path.exists('Results'):\n",
    "    os.makedirs('Results')\n",
    "\n",
    "for var in var_list:\n",
    "    for ind in Indi_list:\n",
    "    \n",
    "        var_grouped = df.groupby(ind)\n",
    "        var_counts = var_grouped[var].value_counts()\n",
    "        var_percents = var_grouped[var].value_counts(normalize=True)\n",
    "        var_results = pd.DataFrame({'Counts': var_counts, 'Percentage': var_percents})\n",
    "        var_results = var_results.reset_index()\n",
    "        var_results = pd.pivot_table(var_results, values='Percentage', index=[ind], columns=[var_results.columns[1]], aggfunc=np.sum)\n",
    "        output_file = f\"Results/{var}_{ind}.xlsx\"    \n",
    "        writer = pd.ExcelWriter(output_file, engine='xlsxwriter') \n",
    "        var_results.to_excel(writer, sheet_name='Results')\n",
    "        writer.close()"
   ]
  },
  {
   "cell_type": "markdown",
   "id": "e247cf13",
   "metadata": {},
   "source": [
    "### Food Security and Valnurebility Indicators"
   ]
  },
  {
   "cell_type": "code",
   "execution_count": 60,
   "id": "62fc6b34",
   "metadata": {},
   "outputs": [],
   "source": [
    "var_list = ['FCSC', 'FCS_4pt', 'HDDsC', 'RCSi','FGVitA','FGProtein','FGIron','LCSi', 'FESc', 'ECMEN', 'CARI_FESc']\n",
    "Indi_list = ['ADMIN0Name', 'District', 'HHHGender', 'HHHAgeC', 'HHSizeC', 'DepRatioC', 'HHMainIncome']\n",
    "if not os.path.exists('Results'):\n",
    "    os.makedirs('Results')\n",
    "\n",
    "for var in var_list:\n",
    "    for ind in Indi_list:\n",
    "    \n",
    "        var_grouped = df.groupby(ind)\n",
    "        var_counts = var_grouped[var].value_counts()\n",
    "        var_percents = var_grouped[var].value_counts(normalize=True)\n",
    "        var_results = pd.DataFrame({'Counts': var_counts, 'Percentage': var_percents})\n",
    "        var_results = var_results.reset_index()\n",
    "        var_results = pd.pivot_table(var_results, values='Percentage', index=[ind], columns=[var_results.columns[1]], aggfunc=np.sum)\n",
    "        output_file = f\"Results/{var}_{ind}.xlsx\"    \n",
    "        writer = pd.ExcelWriter(output_file, engine='xlsxwriter') \n",
    "        var_results.to_excel(writer, sheet_name='Results')\n",
    "        writer.close()"
   ]
  },
  {
   "cell_type": "markdown",
   "id": "20e5253f",
   "metadata": {},
   "source": [
    "### RCSi and HHSize Averages"
   ]
  },
  {
   "cell_type": "code",
   "execution_count": 61,
   "id": "0b77a44f",
   "metadata": {},
   "outputs": [],
   "source": [
    "var_list = ['RCSi','HHSize']\n",
    "Indi_list = ['ADMIN0Name', 'District', 'HHHGender', 'HHHAgeC', 'HHSizeC', 'DepRatioC', 'HHMainIncome']\n",
    "if not os.path.exists('Results'):\n",
    "    os.makedirs('Results')\n",
    "\n",
    "for var in var_list:\n",
    "    for ind in Indi_list:\n",
    "    \n",
    "        var_grouped = df.groupby(ind)\n",
    "        var_means = var_grouped[var].mean()\n",
    "        var_results = pd.DataFrame({'Mean Value': var_means})\n",
    "        var_results = var_results.reset_index()\n",
    "        output_file = f\"Results/{var}mean_{ind}.xlsx\"    \n",
    "        writer = pd.ExcelWriter(output_file, engine='xlsxwriter') \n",
    "        var_results.to_excel(writer, sheet_name='Results')\n",
    "        writer.close()"
   ]
  }
 ],
 "metadata": {
  "kernelspec": {
   "display_name": "Python 3 (ipykernel)",
   "language": "python",
   "name": "python3"
  },
  "language_info": {
   "codemirror_mode": {
    "name": "ipython",
    "version": 3
   },
   "file_extension": ".py",
   "mimetype": "text/x-python",
   "name": "python",
   "nbconvert_exporter": "python",
   "pygments_lexer": "ipython3",
   "version": "3.9.13"
  }
 },
 "nbformat": 4,
 "nbformat_minor": 5
}
